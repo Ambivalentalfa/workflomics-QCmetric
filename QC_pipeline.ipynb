{
 "cells": [
  {
   "cell_type": "markdown",
   "metadata": {},
   "source": [
    "# Super organised modular notebook\n"
   ]
  },
  {
   "cell_type": "markdown",
   "metadata": {},
   "source": [
    "## Imports and installation"
   ]
  },
  {
   "cell_type": "markdown",
   "metadata": {},
   "source": [
    "You can install the packages needed using the following command `pip install -r requirements.txt`  where the file contains the following:\n",
    "\n",
    "<div class=\"alert alert-block alert-info\">\n",
    "\n",
    "aiohttp==3.9.5\\\n",
    "asyncio==3.4.3\\\n",
    "igraph\\\n",
    "requests\\\n",
    "py4cytoscape==1.9.0\\\n",
    "pandas\\\n",
    "tqdm==4.66.2\\\n",
    "numpy\\\n",
    "matplotlib\\\n",
    "json\\\n",
    "nest_asyncio\\\n",
    "jsonpath_ng\\\n",
    "ruamel.yaml\\\n",
    "cwl_utils\n",
    "</div>\n",
    "\n",
    "Please note that Cytoscape has to be installed and open on your machine for visualisation to work."
   ]
  },
  {
   "cell_type": "code",
   "execution_count": 42,
   "metadata": {
    "metadata": {}
   },
   "outputs": [],
   "source": [
    "# General packages\n",
    "import pandas as pd         \n",
    "import os\n",
    "from tqdm import tqdm       \n",
    "import pickle\n",
    "import numpy as np\n",
    "from datetime import datetime, timedelta\n",
    "import glob\n",
    "import sys\n",
    "import matplotlib.pyplot as plt\n",
    "import json\n",
    "\n",
    "\n",
    "# define format, and set parameters for time, TODO: rm?  \n",
    "date_format = \"%Y_%m_%d_%H_%M\" \n",
    "current_date = datetime.now().strftime(date_format)\n",
    "last_week_date = (datetime.now() - timedelta(days=7)).strftime(date_format)\n",
    "\n",
    "\n",
    "\n",
    "# Project specific packages\n",
    "import aiohttp              # Used for aggregating requests into single session\n",
    "import asyncio              # -\"-\n",
    "import nest_asyncio         # For jupyter asyncio compatibility \n",
    "nest_asyncio.apply()        # Automatically takes into account how jupyter handles running event loops\n",
    "import jsonpath_ng as jp\n",
    "\n",
    "\n",
    "# TODO: import jsonpath_ng.ext      # More efficient json processing look into if actually computationally more efficient \n",
    "import igraph               # Used to create te citationa graph \n",
    "import requests             # For single API requests \n",
    "\n",
    "# workflow parsing \n",
    "from cwl_utils.parser import load_document_by_uri, save # for workflow parsing \n",
    "from ruamel import yaml\n",
    "\n",
    "\n",
    "\n",
    "# Visualisation \n",
    "import py4cytoscape as p4c  # Cytoscape for visualisation of the citaton graph, \n",
    "                            # note that Cytoscape has to be installed and open on your machine for visualisation to work"
   ]
  },
  {
   "cell_type": "code",
   "execution_count": null,
   "metadata": {},
   "outputs": [],
   "source": []
  },
  {
   "cell_type": "markdown",
   "metadata": {},
   "source": [
    "Check that the packages are installed and functional "
   ]
  },
  {
   "cell_type": "code",
   "execution_count": 43,
   "metadata": {
    "metadata": {}
   },
   "outputs": [
    {
     "name": "stdout",
     "output_type": "stream",
     "text": [
      "igraph version: 0.11.4\n",
      "Make sure to have Cytoscape installed and open (or don't, if you don't care about the visualisation)!\n"
     ]
    },
    {
     "name": "stderr",
     "output_type": "stream",
     "text": [
      "In cyrest_get: Cannot find local or remote Cytoscape. Start Cytoscape and then proceed.\n"
     ]
    }
   ],
   "source": [
    "print(\"igraph version:\", igraph.__version__)\n",
    "try: \n",
    "    dir(p4c)\n",
    "    p4c.cytoscape_ping() \n",
    "    print(\"Cytoscape version:\",p4c.cytoscape_version_info()['cytoscapeVersion'])    \n",
    "except:\n",
    "    print (\"Make sure to have Cytoscape installed and open (or don't, if you don't care about the visualisation)!\")\n"
   ]
  },
  {
   "cell_type": "markdown",
   "metadata": {},
   "source": [
    "## Downloading data "
   ]
  },
  {
   "cell_type": "code",
   "execution_count": 44,
   "metadata": {},
   "outputs": [
    {
     "name": "stdout",
     "output_type": "stream",
     "text": [
      "Help on module WFQC.data in WFQC:\n",
      "\n",
      "NAME\n",
      "    WFQC.data - Functions to download data.\n",
      "\n",
      "FUNCTIONS\n",
      "    async aggregate_requests(session, url)\n",
      "        Sync the bio.tools (page) requests so they are all made in a single session\n",
      "\n",
      "        Parameters\n",
      "        ----------\n",
      "        session : aiohttp.client.ClientSession object\n",
      "            session object for package aiohttp\n",
      "        url : str\n",
      "            url for request\n",
      "\n",
      "    europepmc(article_id, format='JSON', source='MED', page=1, page_size=1000)\n",
      "        Downloads pmids for the articles citing the given article_id, returns list of citation pmids (PubMed IDs)\n",
      "\n",
      "        Parameters\n",
      "        ----------\n",
      "        article_id : str # TODO: int?\n",
      "            pmid, PubMed ID, for a given article.\n",
      "        source: str\n",
      "            source ID as given by the EuropePMC API documentation: https://europepmc.org/Help#contentsources\n",
      "\n",
      "        page, int, default == 1\n",
      "            determines where to start looking TODO: remove this, why would you not start at 1?\n",
      "\n",
      "        pagesize, int, default 1000 max 1000\n",
      "            determines number of results per page\n",
      "\n",
      "    async get_biotools_metadata(topicID='topic_0121')\n",
      "        Fetches metadata about tools from bio.tools, belonging to a given topicID and returns as a dataframe.\n",
      "        If a CSV file already exists load the dataframe from it.\n",
      "\n",
      "        Parameters\n",
      "        ----------\n",
      "        topicID : str TODO: make this a int instead? why am I writing topic?\n",
      "            The ID to which the tools belongs to, ex. \"Proteomics\" or \"DNA\" as defined by\n",
      "            EDAM ontology (visualisation: https://edamontology.github.io/edam-browser/#topic_0003)\n",
      "\n",
      "FILE\n",
      "    /home/alma/Documents/UU/Thesis/workflomics-QCmetric/WFQC/data.py\n",
      "\n",
      "\n"
     ]
    }
   ],
   "source": [
    "import WFQC.data\n",
    "help(WFQC.data)"
   ]
  },
  {
   "cell_type": "markdown",
   "metadata": {},
   "source": [
    "## Graph generation"
   ]
  },
  {
   "cell_type": "code",
   "execution_count": 45,
   "metadata": {},
   "outputs": [
    {
     "name": "stdout",
     "output_type": "stream",
     "text": [
      "Help on function create_citation_network in module WFQC.network:\n",
      "\n",
      "create_citation_network(topicID='topic_0121', testSize=None, randomSeed=42, loadData=True, filePath='', outpath=None, inpath='', saveFiles=True)\n",
      "    Creates a citation network given a topic and returns a graph and the tools included in the graph\n",
      "\n",
      "\n",
      "    Parameters\n",
      "    ----------\n",
      "    topicID : str, default \"topic_0121\" (proteomics) TODO: int?\n",
      "        The ID to which the tools belongs to, ex. \"Proteomics\" or \"DNA\" as defined by\n",
      "        EDAM ontology (visualisation: https://edamontology.github.io/edam-browser/#topic_0003)\n",
      "\n",
      "    testSize : int or None, default None\n",
      "        Determines the number of tools included in the citation graph.\n",
      "\n",
      "    randomSeed : int, default 42\n",
      "        Specifies what seed is used to randomly pick tools in a test run.\n",
      "\n",
      "    loadData : Boolean, default True\n",
      "        Determines if already generated graph is loaded or if it is recreated.\n",
      "\n",
      "    filePath : str  TODO: add filepath\n",
      "        Path to already generated graph\n",
      "\n",
      "    saveFiles : Boolean, default True\n",
      "        Determines if newly generated graph is saved.\n",
      "\n"
     ]
    }
   ],
   "source": [
    "from WFQC.network import create_citation_network \n",
    "help(create_citation_network)"
   ]
  },
  {
   "cell_type": "markdown",
   "metadata": {},
   "source": [
    "The function reate_citation_network can be called to create or load the cocitation network"
   ]
  },
  {
   "cell_type": "markdown",
   "metadata": {},
   "source": [
    "## The metric"
   ]
  },
  {
   "cell_type": "markdown",
   "metadata": {},
   "source": [
    "Create the cocitation network specifying if you want to load existing data, run on a smaller test set etc.  "
   ]
  },
  {
   "cell_type": "code",
   "execution_count": 46,
   "metadata": {
    "metadata": {}
   },
   "outputs": [
    {
     "name": "stdout",
     "output_type": "stream",
     "text": [
      "Bio.tools data loaded from existing CSV file.\n",
      "Loading saved graph.\n"
     ]
    }
   ],
   "source": [
    "#TODO: filepath for input files! - change bio.tools thing \n",
    "\n",
    "G, included_tools = create_citation_network(inpath=\"out\")\n"
   ]
  },
  {
   "cell_type": "code",
   "execution_count": 47,
   "metadata": {},
   "outputs": [
    {
     "name": "stdout",
     "output_type": "stream",
     "text": [
      "1091\n"
     ]
    }
   ],
   "source": [
    "print(len(included_tools))"
   ]
  },
  {
   "cell_type": "markdown",
   "metadata": {},
   "source": [
    "### Download workflow data\n"
   ]
  },
  {
   "cell_type": "markdown",
   "metadata": {},
   "source": [
    "<div class=\"alert alert-block alert-warning\">\n",
    "<b>OBS:</b> This is not yet implemented. Currently drawing random tools to simulate workflows\n",
    "</div>"
   ]
  },
  {
   "cell_type": "code",
   "execution_count": 10,
   "metadata": {},
   "outputs": [],
   "source": [
    "from WFQC.workflow import parse_workflows, radnomise_workflows\n",
    "from WFQC.metrics import comet"
   ]
  },
  {
   "cell_type": "code",
   "execution_count": 48,
   "metadata": {},
   "outputs": [
    {
     "name": "stdout",
     "output_type": "stream",
     "text": [
      "[('23051804', '23148064'), ('14632076', '23051804')] [('27575624', '32517646'), ('33529337', '37580331'), ('16026613', '35571557')]\n"
     ]
    }
   ],
   "source": [
    "cwl_file = \"./workflows/candidate_workflow_2.cwl\"\n",
    "\n",
    "workflow_pairs, workflow_tools = parse_workflows(cwl_file) # TODO: more than one at a time \n",
    "\n",
    "rand_workflow_pairs, rand_workflow_tools = radnomise_workflows(included_tools, num_pairs = 3)\n",
    "\n",
    "print(workflow_pairs, rand_workflow_pairs)"
   ]
  },
  {
   "cell_type": "markdown",
   "metadata": {},
   "source": [
    "could add visualisation of the workflows and the original workflows. "
   ]
  },
  {
   "cell_type": "markdown",
   "metadata": {},
   "source": [
    "### Calculate metric"
   ]
  },
  {
   "cell_type": "markdown",
   "metadata": {},
   "source": [
    "<div class=\"alert alert-block alert-warning\">\n",
    "<b>OBS:</b> This is a simple placeholder implementation of a metric\n",
    "</div>"
   ]
  },
  {
   "cell_type": "code",
   "execution_count": 49,
   "metadata": {},
   "outputs": [
    {
     "name": "stdout",
     "output_type": "stream",
     "text": [
      "[55, 22]\n",
      "Total cocitation score for workflow [('23051804', '23148064'), ('14632076', '23051804')] is 38.5.\n"
     ]
    }
   ],
   "source": [
    "# For one workflow\n",
    "metric_score, raw_results = comet(G, workflow_pairs)\n",
    "\n",
    "print(raw_results)\n",
    "\n",
    "print(f\"Total cocitation score for workflow {workflow_pairs} is {metric_score}.\")\n"
   ]
  },
  {
   "cell_type": "markdown",
   "metadata": {},
   "source": [
    "### Evaluate results "
   ]
  },
  {
   "cell_type": "markdown",
   "metadata": {},
   "source": [
    "Below I am comparing the workflows from workflomics, to completely randomly drawn tools from the bioinformatics topic "
   ]
  },
  {
   "cell_type": "code",
   "execution_count": 12,
   "metadata": {},
   "outputs": [],
   "source": [
    "workflomics_tools = {\"Comet\":\"23148064\" , \"PeptideProphet\":\"12403597\" ,\"ProteinProphet\":\"14632076\" ,\"StPeter\":\"29400476\" ,\"mzRecal\":\"33538780\" ,\n",
    "                     \"idconvert\":\"23051804\" ,\"msconvert\":\"23051804\" ,\"GOEnrichment\":None ,\"gProfiler\":'27098042' ,\"ms_amanda\":'24909410' ,\n",
    "                       \"msfragger\":'28394336' , \"protXml2IdList\":None }\n",
    "# some of them do not have "
   ]
  },
  {
   "cell_type": "code",
   "execution_count": 37,
   "metadata": {},
   "outputs": [
    {
     "name": "stdout",
     "output_type": "stream",
     "text": [
      "no ./workflows/candidate_workflow_8.cwl\n",
      "no ./workflows/candidate_workflow_9.cwl\n",
      "no ./workflows/candidate_workflow_18.cwl\n",
      "no ./workflows/candidate_workflow_19.cwl\n",
      "[[('12403597', '14976030'), ('14632076', '12403597')], [('23051804', '23148064'), ('14632076', '23051804')], [('12403597', '23148064'), ('14632076', '12403597')], [('29400476', '23148064'), ('29400476', '14632076'), ('14632076', '23148064')], [('29400476', '14632076'), ('29400476', '14976030'), ('14632076', '14976030')], [('29400476', '23148064'), ('29400476', '14632076'), ('14632076', '23148064')], [('14976030', '33538780'), ('14632076', '14976030'), ('33538780', '23148064')], [('29400476', '33538780'), ('33538780', '23148064'), ('29400476', '23148064'), ('29400476', '14632076'), ('14632076', '23148064')], [('12403597', '23148064'), ('29400476', '14632076'), ('14632076', '23148064'), ('29400476', '12403597')], [('29400476', '14632076'), ('29400476', '14976030'), ('14632076', '23148064')], [('12403597', '23051804'), ('23051804', '23148064'), ('14632076', '12403597')], [('12403597', '23148064'), ('12403597', '33538780'), ('14632076', '12403597'), ('33538780', '23148064')], [('14632076', '23148064'), ('23148064', '33538780'), ('33538780', '23148064')], [('29400476', '23148064'), ('29400476', '14632076'), ('14632076', '14976030')], [('29400476', '23148064'), ('29400476', '14632076'), ('14632076', '23148064')], [('29400476', '14632076'), ('29400476', '14976030'), ('14632076', '14976030')], [('29400476', '23148064'), ('29400476', '14632076'), ('14632076', '14976030')], [('29400476', '14632076'), ('29400476', '14976030'), ('14632076', '23148064')], [('29400476', '14632076'), ('29400476', '14976030'), ('14632076', '14976030')], [('29400476', '14632076'), ('12403597', '14976030'), ('29400476', '12403597'), ('14632076', '14976030')]] [[('28460065', '36827259'), ('35348639', '24162465'), ('31500569', '32148360')], [('36304335', '35569805'), ('28286574', '31375721'), ('37166973', '34718741')], [('25638023', '35944843'), ('31684883', '28394336'), ('25346946', '31413154')], [('33091296', '34019646'), ('15229886', '25638023'), ('34639237', '36094961')], [('31722485', '31510679'), ('28135259', '33730950'), ('32108478', '34919405')], [('15047062', '30862647'), ('22623377', '36535969'), ('31034666', '14681466')], [('31823712', '34873191'), ('33661641', '34415020'), ('17478500', '31132275'), ('33724838', '29873773')], [('22570409', '34093642'), ('37287874', '33972019'), ('33787868', '28975713'), ('23494783', '31095607')], [('25568280', '15606915'), ('31598632', '23742908'), ('21862760', '29215871'), ('28110292', '15229886')], [('27630248', '34088263'), ('33080015', '34669962'), ('23536269', '31363206'), ('34850155', '33784381')], [('36496144', '28460065'), ('22809339', '34395100'), ('33497434', '36353986'), ('31657565', '35231660')], [('35021191', '34919543'), ('31878100', '25505153'), ('12824418', '33999207'), ('22471441', '33660510')], [('35950762', '35598299'), ('23449253', '23793753'), ('26743511', '15937296')], [('32044914', '26819472'), ('22480257', '29518231'), ('28460065', '34661630'), ('34650228', '31681429')], [('23385215', '16931036'), ('30501201', '23350948'), ('21751374', '27642655')], [('31599029', '35711912'), ('37308510', '35640972'), ('19706745', '36701129')], [('34600153', '28093409'), ('34600153', '26628587'), ('37140039', '30565464'), ('34088263', '34884927')], [('32226857', '31655541'), ('26037908', '30679268'), ('33382035', '32219387'), ('19880383', '26803161')], [('31922550', '30862647'), ('30715205', '12923769'), ('27190236', '32526479')], [('26182917', '19528069'), ('21325302', '24407311'), ('15047062', '33724836'), ('31856704', '31952481')]]\n"
     ]
    }
   ],
   "source": [
    "workflows = []\n",
    "rand_workflows = []\n",
    "\n",
    "#TODO: make this a function?\n",
    "for i in range(1, 25):\n",
    "    cwl_file = f\"./workflows/candidate_workflow_{i}.cwl\" #TODO: customise path!!\n",
    "    try:\n",
    "        workflow_pairs, workflow_tools = parse_workflows(cwl_file) # TODO: more than one at a time \n",
    "        workflows.append(workflow_pairs)\n",
    "\n",
    "        rand_workflow_pairs, rand_workflow_tools = radnomise_workflows(included_tools, num_pairs = len(workflow_tools)) # making sure they all have the same amount of tools \n",
    "        rand_workflows.append(rand_workflow_pairs)\n",
    "    except:\n",
    "        print(\"no\", cwl_file)\n",
    "        continue \n",
    "\n",
    "\n",
    "print(workflows, rand_workflows) # wooh thats ineffeicient "
   ]
  },
  {
   "cell_type": "code",
   "execution_count": 38,
   "metadata": {},
   "outputs": [
    {
     "name": "stdout",
     "output_type": "stream",
     "text": [
      "20 20\n"
     ]
    }
   ],
   "source": [
    "print(len(workflows), len( rand_workflows))"
   ]
  },
  {
   "cell_type": "code",
   "execution_count": 39,
   "metadata": {},
   "outputs": [
    {
     "name": "stdout",
     "output_type": "stream",
     "text": [
      "[0.0, 0.0, 0.0, 0.0, 0.0, 0.0, 0.0, 0.0, 0.0, 1.25, 0.0, 0.25, 0.0, 0.0, 0.0, 0.0, 0.0, 0.0, 0.0, 0.25] [289.5, 38.5, 324.0, 27.0, 18.333333333333332, 27.0, 16.0, 16.4, 58.25, 26.0, 196.66666666666666, 162.5, 23.666666666666668, 19.333333333333332, 27.0, 18.333333333333332, 19.333333333333332, 26.0, 18.333333333333332, 35.25]\n"
     ]
    }
   ],
   "source": [
    "scores=[]\n",
    "rand_scores =[]\n",
    "\n",
    "for i in range(len(workflows)):\n",
    "    metric_score, raw_results = comet(G, workflows[i])\n",
    "    rand_metric_score, rand_raw_results = comet(G, rand_workflows[i])\n",
    "\n",
    "    scores.append(metric_score)\n",
    "    rand_scores.append(rand_metric_score)\n",
    "    \n",
    "print(rand_scores, scores)"
   ]
  },
  {
   "cell_type": "code",
   "execution_count": 40,
   "metadata": {},
   "outputs": [
    {
     "data": {
      "image/png": "[encoded data removed]",
      "text/plain": [
       "<Figure size 640x480 with 1 Axes>"
      ]
     },
     "metadata": {},
     "output_type": "display_data"
    }
   ],
   "source": [
    "\n",
    "plt.scatter(scores, scores, color='blue', label='Non-random')\n",
    "plt.scatter(rand_scores, rand_scores, color='red', label='Random')\n",
    "\n",
    "plt.xlabel('Metric Score')\n",
    "plt.ylabel('Metric Score')\n",
    "plt.show()\n"
   ]
  },
  {
   "cell_type": "code",
   "execution_count": 41,
   "metadata": {},
   "outputs": [
    {
     "data": {
      "image/png": "[encoded data removed]",
      "text/plain": [
       "<Figure size 640x480 with 1 Axes>"
      ]
     },
     "metadata": {},
     "output_type": "display_data"
    }
   ],
   "source": [
    "\n",
    "fig, ax = plt.subplots()\n",
    "\n",
    "ax.hist(scores, bins=20, color='blue', alpha=0.5, label='Non-random')\n",
    "\n",
    "ax.hist(rand_scores, bins=20, color='red', alpha=0.5, label='Random')\n",
    "\n",
    "ax.set_xlabel('Metric Score')\n",
    "ax.set_ylabel('Frequency')\n",
    "ax.legend()\n",
    "\n",
    "ax.set_xscale('log') # because otherwise not showing up in same plot for some reason\n",
    "\n",
    "# Show plot\n",
    "plt.show()\n"
   ]
  },
  {
   "cell_type": "markdown",
   "metadata": {},
   "source": [
    "Obviously this comparison is not very fair and we should make sure that the \"functional workflows\" are drawn from the same set as the randoms, whereas now they are drawn from a very small subset of very well annotated tools. This is more to show that the comparison works, not that the results are reliable. "
   ]
  },
  {
   "cell_type": "markdown",
   "metadata": {},
   "source": [
    "## Visualisation\n"
   ]
  },
  {
   "cell_type": "markdown",
   "metadata": {},
   "source": [
    "Using cytoscape to visualise the network"
   ]
  },
  {
   "cell_type": "code",
   "execution_count": 179,
   "metadata": {},
   "outputs": [
    {
     "name": "stdout",
     "output_type": "stream",
     "text": [
      "Applying default style...\n",
      "Applying preferred layout\n",
      "Styling graph\n",
      "style_name not specified, so updating \"default\" style.\n",
      "style_name not specified, so updating \"default\" style.\n",
      "style_name not specified, so updating \"default\" style.\n",
      "style_name not specified, so updating \"default\" style.\n",
      "style_name not specified, so updating \"default\" style.\n",
      "style_name not specified, so updating \"default\" style.\n",
      "style_name not specified, so updating \"default\" style.\n"
     ]
    },
    {
     "data": {
      "text/plain": [
       "''"
      ]
     },
     "execution_count": 179,
     "metadata": {},
     "output_type": "execute_result"
    }
   ],
   "source": [
    "\n",
    "import time # TODO: i switched to datetime, fix this later \n",
    "t = time.localtime()\n",
    "current_time = time.strftime(\"%Y%m%d%H%M\", t)\n",
    "\n",
    "\n",
    "p4c.create_network_from_igraph(G, f\"Cocitations_Size{len(included_tools)}_{current_time}\", collection=\"Citation networks\")\n",
    "\n",
    "\n",
    "print(\"Styling graph\")\n",
    "p4c.set_node_shape_default(\"ELLIPSE\")\n",
    "p4c.set_node_width_default(30)\n",
    "p4c.set_node_height_default(30)\n",
    "p4c.set_node_border_color_default(\"#000000\")  # Black color in hexadecimal\n",
    "p4c.set_node_border_width_default(1)\n",
    "p4c.set_node_color_bypass(included_tools, \"#FF0000\")  # Red color in hexadecimal\n",
    "p4c.set_node_size_bypass(included_tools, 100)  # remember it cannot be a np.array, just a list argh \n",
    "\n",
    "# colour the tools in the workflow \n",
    "p4c.set_node_color_bypass(workflow_tools, \"#2F739A\")  # they should be gradually coloured later maybe, sequentially\n",
    "p4c.set_node_size_bypass(workflow_tools, 200)  # remember it cannot be a np.array, just a list argh \n"
   ]
  }
 ],
 "metadata": {
  "kernelspec": {
   "display_name": "workflomics",
   "language": "python",
   "name": "python3"
  },
  "language_info": {
   "codemirror_mode": {
    "name": "ipython",
    "version": 3
   },
   "file_extension": ".py",
   "mimetype": "text/x-python",
   "name": "python",
   "nbconvert_exporter": "python",
   "pygments_lexer": "ipython3",
   "version": "3.12.2"
  }
 },
 "nbformat": 4,
 "nbformat_minor": 2
}
