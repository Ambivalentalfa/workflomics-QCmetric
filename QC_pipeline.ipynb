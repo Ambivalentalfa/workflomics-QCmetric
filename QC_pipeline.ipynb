{
 "cells": [
  {
   "cell_type": "markdown",
   "metadata": {},
   "source": [
    "# Super organised modular notebook\n"
   ]
  },
  {
   "cell_type": "markdown",
   "metadata": {},
   "source": [
    "## Imports and installation"
   ]
  },
  {
   "cell_type": "markdown",
   "metadata": {},
   "source": [
    "You can install the packages needed using the following command `pip install -r requirements.txt`  where the file contains the following:\n",
    "\n",
    "<div class=\"alert alert-block alert-info\">\n",
    "\n",
    "aiohttp==3.9.5\\\n",
    "asyncio==3.4.3\\\n",
    "igraph\\\n",
    "requests\\\n",
    "py4cytoscape==1.9.0\\\n",
    "pandas\\\n",
    "tqdm==4.66.2\\\n",
    "numpy\\\n",
    "matplotlib\\\n",
    "nest_asyncio\\\n",
    "jsonpath-ng\\\n",
    "ruamel.yaml\\\n",
    "cwl_utils\n",
    "</div>\n",
    "\n",
    "Please note that Cytoscape has to be installed and open on your machine for visualisation to work."
   ]
  },
  {
   "cell_type": "code",
   "execution_count": 2,
   "metadata": {
    "metadata": {}
   },
   "outputs": [],
   "source": [
    "import os\n",
    "import numpy as np\n",
    "import matplotlib.pyplot as plt\n",
    "import sys\n",
    "import nest_asyncio         # For jupyter asyncio compatibility \n",
    "nest_asyncio.apply()        # Automatically takes into account how jupyter handles running event loops\n",
    "from datetime import datetime\n",
    "import igraph              \n",
    "import py4cytoscape as p4c  # Cytoscape for visualisation of the citaton graph, \n",
    "                            # note that Cytoscape has to be installed and open on your machine for visualisation to work\n",
    "\n",
    "sys.path.insert(0, os.path.abspath(os.path.join(os.getcwd(), 'src')))\n",
    "\n",
    "import WFQC.data\n",
    "from WFQC.network import create_citation_network \n",
    "from WFQC.workflow import parse_workflows, radnomise_workflows\n",
    "from WFQC.metrics import sum_metric, path_metric"
   ]
  },
  {
   "cell_type": "markdown",
   "metadata": {},
   "source": [
    "Check that the packages are installed and functional "
   ]
  },
  {
   "cell_type": "code",
   "execution_count": 3,
   "metadata": {
    "metadata": {}
   },
   "outputs": [
    {
     "name": "stdout",
     "output_type": "stream",
     "text": [
      "igraph version: 0.11.5\n",
      "You are connected to Cytoscape!\n",
      "Cytoscape version: 3.10.2\n"
     ]
    }
   ],
   "source": [
    "print(\"igraph version:\", igraph.__version__) #TODO: sometimes this runs forever when it does not find cytoscape, sometimes not. check why\n",
    "try: \n",
    "    dir(p4c)\n",
    "    p4c.cytoscape_ping()    \n",
    "    print(\"Cytoscape version:\",p4c.cytoscape_version_info()['cytoscapeVersion'])    \n",
    "except:\n",
    "    print (\"Make sure to have Cytoscape installed and open (or don't, if you don't care about the visualisation)!\")"
   ]
  },
  {
   "cell_type": "markdown",
   "metadata": {},
   "source": [
    "## Downloading data "
   ]
  },
  {
   "cell_type": "markdown",
   "metadata": {},
   "source": [
    "Looking at the documentatio of the imported functions to see everythign is working as intended "
   ]
  },
  {
   "cell_type": "code",
   "execution_count": 4,
   "metadata": {},
   "outputs": [
    {
     "name": "stdout",
     "output_type": "stream",
     "text": [
      "Help on module WFQC.data in WFQC:\n",
      "\n",
      "NAME\n",
      "    WFQC.data - Functions to download data.\n",
      "\n",
      "FUNCTIONS\n",
      "    async aggregate_requests(session, url)\n",
      "        Sync the bio.tools (page) requests so they are all made in a single session \n",
      "        \n",
      "        Parameters\n",
      "        ----------\n",
      "        session : aiohttp.client.ClientSession object\n",
      "            session object for package aiohttp\n",
      "        url : str\n",
      "            url for request\n",
      "    \n",
      "    europepmc(article_id, format='JSON', source='MED', page=1, page_size=1000)\n",
      "        Downloads pmids for the articles citing the given article_id, returns list of citation pmids (PubMed IDs)\n",
      "            \n",
      "        Parameters\n",
      "        ----------\n",
      "        article_id : str # TODO: int? \n",
      "            pmid, PubMed ID, for a given article.\n",
      "        source: str\n",
      "            source ID as given by the EuropePMC API documentation: https://europepmc.org/Help#contentsources \n",
      "        \n",
      "        page, int, default == 1\n",
      "            determines where to start looking TODO: remove this, why would you not start at 1? \n",
      "        \n",
      "        pagesize, int, default 1000 max 1000\n",
      "            determines number of results per page\n",
      "    \n",
      "    async get_pmid_from_doi(doi_tools)\n",
      "    \n",
      "    async get_pmids(topicID)\n",
      "    \n",
      "    get_tool_metadata(outpath, topicID='topic_0121')\n",
      "        Fetches metadata about tools from bio.tools, belonging to a given topicID and returns as a dataframe.\n",
      "        If a CSV file already exists load the dataframe from it. \n",
      "        \n",
      "        Parameters\n",
      "        ----------\n",
      "        topicID : str TODO: make this a int instead? why am I writing topic? \n",
      "            The ID to which the tools belongs to, ex. \"Proteomics\" or \"DNA\" as defined by \n",
      "            EDAM ontology (visualisation: https://edamontology.github.io/edam-browser/#topic_0003)\n",
      "\n",
      "FILE\n",
      "    /home/alma/Documents/UU/Thesis/Git/workflomics-QCmetric/src/WFQC/data.py\n",
      "\n",
      "\n"
     ]
    }
   ],
   "source": [
    "help(WFQC.data)"
   ]
  },
  {
   "cell_type": "markdown",
   "metadata": {},
   "source": [
    "## Graph generation"
   ]
  },
  {
   "cell_type": "code",
   "execution_count": 5,
   "metadata": {},
   "outputs": [
    {
     "name": "stdout",
     "output_type": "stream",
     "text": [
      "Help on function create_citation_network in module WFQC.network:\n",
      "\n",
      "create_citation_network(topicID='topic_0121', testSize='', randomSeed=42, loadData=True, filePath='', outpath=None, inpath='', saveFiles=True, includeCitationNodes=False)\n",
      "    Creates a citation network given a topic and returns a graph and the tools included in the graph\n",
      "    \n",
      "        \n",
      "    Parameters\n",
      "    ----------\n",
      "    topicID : str, default \"topic_0121\" (proteomics) TODO: int? \n",
      "        The ID to which the tools belongs to, ex. \"Proteomics\" or \"DNA\" as defined by \n",
      "        EDAM ontology (visualisation: https://edamontology.github.io/edam-browser/#topic_0003)\n",
      "    \n",
      "    testSize : int or None, default None\n",
      "        Determines the number of tools included in the citation graph.\n",
      "    \n",
      "    randomSeed : int, default 42\n",
      "        Specifies what seed is used to randomly pick tools in a test run. \n",
      "    \n",
      "    loadData : Boolean, default True\n",
      "        Determines if already generated graph is loaded or if it is recreated.\n",
      "    \n",
      "    filePath : str  TODO: add filepath \n",
      "        Path to already generated graph\n",
      "    \n",
      "    saveFiles : Boolean, default True\n",
      "        Determines if newly generated graph is saved.\n",
      "\n"
     ]
    }
   ],
   "source": [
    "help(create_citation_network)"
   ]
  },
  {
   "cell_type": "markdown",
   "metadata": {},
   "source": [
    "The function create_citation_network can be called to create or load the cocitation network"
   ]
  },
  {
   "cell_type": "markdown",
   "metadata": {},
   "source": [
    "### Load data"
   ]
  },
  {
   "cell_type": "code",
   "execution_count": 6,
   "metadata": {
    "metadata": {}
   },
   "outputs": [
    {
     "name": "stdout",
     "output_type": "stream",
     "text": [
      "Loading saved data.\n"
     ]
    }
   ],
   "source": [
    "#TODO: filepath for input files! - change bio.tools thing \n",
    "\n",
    "path_to_data = 'data/out_202405211310'\n",
    "\n",
    "G, included_tools = create_citation_network(inpath=path_to_data) # TODO: if no data then make data or ask if make data?\n"
   ]
  },
  {
   "cell_type": "markdown",
   "metadata": {},
   "source": [
    "### Generate new graph\n"
   ]
  },
  {
   "cell_type": "markdown",
   "metadata": {},
   "source": [
    "#### Test size"
   ]
  },
  {
   "cell_type": "markdown",
   "metadata": {},
   "source": [
    "For example with a testsize of 10 tools"
   ]
  },
  {
   "cell_type": "code",
   "execution_count": null,
   "metadata": {},
   "outputs": [],
   "source": [
    "G, included_tools = create_citation_network(loadData=False, testSize=20) "
   ]
  },
  {
   "cell_type": "markdown",
   "metadata": {},
   "source": [
    "Or with the citation nodes included"
   ]
  },
  {
   "cell_type": "code",
   "execution_count": null,
   "metadata": {},
   "outputs": [
    {
     "name": "stdout",
     "output_type": "stream",
     "text": [
      "Bio.tools data loaded from existing CSV file.\n",
      "Creating test-cocitation network of size 20. Random seed is 42.\n",
      "Downloading citation data from Europepmc.\n"
     ]
    },
    {
     "name": "stderr",
     "output_type": "stream",
     "text": [
      "Processing PMIDs: 100%|██████████| 20/20 [00:07<00:00,  2.58it/s]"
     ]
    },
    {
     "name": "stdout",
     "output_type": "stream",
     "text": [
      "Creating citation graph using igraph.\n",
      "1024 unique out of 1024 edges total!\n",
      "Removing citations with degree less or equal to 1 (Non co-citations).\n",
      "Number of vertices removed with threshold 20: 0\n",
      "Saving data to directory out_202405241511.\n"
     ]
    },
    {
     "name": "stderr",
     "output_type": "stream",
     "text": [
      "\n"
     ]
    }
   ],
   "source": [
    "G, included_tools = create_citation_network(loadData=False, testSize=20, includeCitationNodes=True) "
   ]
  },
  {
   "cell_type": "markdown",
   "metadata": {},
   "source": [
    "#### Full network"
   ]
  },
  {
   "cell_type": "markdown",
   "metadata": {},
   "source": [
    "Or the entire bio.tools database proteomics topic (default), or another specified topic:"
   ]
  },
  {
   "cell_type": "code",
   "execution_count": null,
   "metadata": {},
   "outputs": [],
   "source": [
    "G, included_tools = create_citation_network(loadData=False) #again"
   ]
  },
  {
   "cell_type": "markdown",
   "metadata": {},
   "source": [
    "Lets check what attributes the co-citation graph has, and that the it was correctly generated"
   ]
  },
  {
   "cell_type": "code",
   "execution_count": 8,
   "metadata": {},
   "outputs": [
    {
     "name": "stdout",
     "output_type": "stream",
     "text": [
      "Graph-level attributes: ['name']\n",
      "Edge-level attributes: ['weight']\n",
      "Tools in graph:  1104\n"
     ]
    }
   ],
   "source": [
    "graph_attributes = G.vs.attributes()\n",
    "print(\"Graph-level attributes:\", graph_attributes)\n",
    "\n",
    "edge_attributes = G.es.attributes()\n",
    "print(\"Edge-level attributes:\", edge_attributes)\n",
    "\n",
    "\n",
    "print('Tools in graph: ', len(included_tools))\n",
    "\n",
    "if len(np.sort(G.vs['name'])) ==len(np.sort(included_tools)):\n",
    "    diff=set(included_tools) -set(included_tools).intersection(set(G.vs['name']))\n",
    "    print(diff)"
   ]
  },
  {
   "cell_type": "markdown",
   "metadata": {},
   "source": [
    "## The metric"
   ]
  },
  {
   "cell_type": "markdown",
   "metadata": {},
   "source": [
    "### Download workflow data\n"
   ]
  },
  {
   "cell_type": "markdown",
   "metadata": {},
   "source": [
    "<div class=\"alert alert-block alert-warning\">\n",
    "<b>OBS:</b> This is not yet implemented. Currently drawing random tools to simulate workflows\n",
    "</div>"
   ]
  },
  {
   "cell_type": "markdown",
   "metadata": {},
   "source": [
    "Test that loading one workflow works"
   ]
  },
  {
   "cell_type": "code",
   "execution_count": null,
   "metadata": {},
   "outputs": [
    {
     "name": "stdout",
     "output_type": "stream",
     "text": [
      "[('23051804', '23148064'), ('14632076', '23051804')] [('31532487', '33827920'), ('18724940', '32786689'), ('36899918', '23385215')]\n"
     ]
    }
   ],
   "source": [
    "cwl_file = \"./workflows/candidate_workflow_2.cwl\"\n",
    "cvsfile = 'biotools_metadata_topic_0121_20240516.csv' #TODO: Hardcoded?\n",
    "\n",
    "workflow_pairs, workflow_tools = parse_workflows(cwl_file,cvsfile) # TODO: more than one at a time \n",
    "\n",
    "rand_workflow_pairs, rand_workflow_tools = radnomise_workflows(included_tools, num_pairs = 3)\n",
    "\n",
    "print(workflow_pairs, rand_workflow_pairs)"
   ]
  },
  {
   "cell_type": "markdown",
   "metadata": {},
   "source": [
    "could add visualisation of the workflows and the original workflows. "
   ]
  },
  {
   "cell_type": "markdown",
   "metadata": {},
   "source": [
    "### Calculate metric"
   ]
  },
  {
   "cell_type": "markdown",
   "metadata": {},
   "source": [
    "<div class=\"alert alert-block alert-warning\">\n",
    "<b>OBS:</b> This is a simple placeholder implementation of a metric\n",
    "</div>"
   ]
  },
  {
   "cell_type": "markdown",
   "metadata": {},
   "source": [
    "Test that calculating the metric for one workflow works"
   ]
  },
  {
   "cell_type": "code",
   "execution_count": null,
   "metadata": {},
   "outputs": [
    {
     "name": "stdout",
     "output_type": "stream",
     "text": [
      "[55, 22]\n",
      "Total cocitation score for workflow [('23051804', '23148064'), ('14632076', '23051804')] is 38.5.\n"
     ]
    }
   ],
   "source": [
    "# For one workflow\n",
    "metric_score, raw_results = comet(G, workflow_pairs)\n",
    "\n",
    "print(raw_results)\n",
    "\n",
    "print(f\"Total cocitation score for workflow {workflow_pairs} is {metric_score}.\")\n"
   ]
  },
  {
   "cell_type": "markdown",
   "metadata": {},
   "source": [
    "### Evaluate results "
   ]
  },
  {
   "cell_type": "markdown",
   "metadata": {},
   "source": [
    "Below I am comparing the workflows from workflomics, to completely randomly drawn tools from the bioinformatics topic "
   ]
  },
  {
   "cell_type": "code",
   "execution_count": null,
   "metadata": {},
   "outputs": [],
   "source": [
    "workflomics_tools = {\"Comet\":\"23148064\" , \"PeptideProphet\":\"12403597\" ,\"ProteinProphet\":\"14632076\" ,\"StPeter\":\"29400476\" ,\"mzRecal\":\"33538780\" ,\n",
    "                     \"idconvert\":\"23051804\" ,\"msconvert\":\"23051804\" ,\"GOEnrichment\":None ,\"gProfiler\":'27098042' ,\"ms_amanda\":'24909410' ,\n",
    "                       \"msfragger\":'28394336' , \"protXml2IdList\":None }\n",
    "# some of them do not have "
   ]
  },
  {
   "cell_type": "code",
   "execution_count": null,
   "metadata": {},
   "outputs": [
    {
     "name": "stdout",
     "output_type": "stream",
     "text": [
      "no ./workflows/candidate_workflow_8.cwl\n",
      "no ./workflows/candidate_workflow_9.cwl\n",
      "no ./workflows/candidate_workflow_18.cwl\n",
      "no ./workflows/candidate_workflow_19.cwl\n",
      "[[('14632076', '12403597'), ('12403597', '14976030')], [('23051804', '23148064'), ('14632076', '23051804')], [('12403597', '23148064'), ('14632076', '12403597')], [('29400476', '23148064'), ('14632076', '23148064'), ('29400476', '14632076')], [('29400476', '14976030'), ('29400476', '14632076'), ('14632076', '14976030')], [('29400476', '23148064'), ('14632076', '23148064'), ('29400476', '14632076')], [('33538780', '23148064'), ('14632076', '14976030'), ('14976030', '33538780')], [('29400476', '23148064'), ('14632076', '23148064'), ('29400476', '33538780'), ('29400476', '14632076'), ('33538780', '23148064')], [('12403597', '23148064'), ('29400476', '14632076'), ('29400476', '12403597'), ('14632076', '23148064')], [('14632076', '23148064'), ('29400476', '14632076'), ('29400476', '14976030')], [('14632076', '12403597'), ('12403597', '23051804'), ('23051804', '23148064')], [('12403597', '23148064'), ('12403597', '33538780'), ('14632076', '12403597'), ('33538780', '23148064')], [('23148064', '33538780'), ('33538780', '23148064'), ('14632076', '23148064')], [('29400476', '23148064'), ('29400476', '14632076'), ('14632076', '14976030')], [('29400476', '23148064'), ('14632076', '23148064'), ('29400476', '14632076')], [('29400476', '14976030'), ('29400476', '14632076'), ('14632076', '14976030')], [('29400476', '23148064'), ('29400476', '14632076'), ('14632076', '14976030')], [('14632076', '23148064'), ('29400476', '14632076'), ('29400476', '14976030')], [('29400476', '14976030'), ('29400476', '14632076'), ('14632076', '14976030')], [('29400476', '12403597'), ('29400476', '14632076'), ('12403597', '14976030'), ('14632076', '14976030')]] [[('23836470', '34882222'), ('20147306', '34093642'), ('31529040', '16894596')], [('33676930', '9636313'), ('32430339', '33730950'), ('9697222', '33450063')], [('32144887', '33174596'), ('33707596', '15507135'), ('31849937', '34358228')], [('23802565', '33308175'), ('30520642', '35722269'), ('21071402', '31539018')], [('33685491', '33237286'), ('20444873', '20101611'), ('15595741', '33703901')], [('36163001', '14988114'), ('33809815', '31603511'), ('34788852', '35689184')], [('35998924', '34925273'), ('32234434', '31729528'), ('28076807', '32714868'), ('36944259', '12525261')], [('25352553', '32392342'), ('20944583', '21233089'), ('35689184', '23967085'), ('31363206', '31690884')], [('34395100', '16381952'), ('31099962', '30521143'), ('23180787', '20140905'), ('15166022', '34290733')], [('24659499', '20058248'), ('25015990', '33135060'), ('27096930', '35664289'), ('10027275', '26141507')], [('34868261', '21036873'), ('36094355', '17615057'), ('36452990', '25348399'), ('27789699', '34669962')], [('16212422', '27789699'), ('32786688', '33099604'), ('22577015', '25697819'), ('35011609', '19099572')], [('33416829', '35246677'), ('23494783', '32954734'), ('35732783', '14988114')], [('32976589', '31888464'), ('34709836', '30565464'), ('29686101', '35021191'), ('33703901', '37280522')], [('36205581', '33497434'), ('34478497', '32379315'), ('36912639', '36693629')], [('21526793', '19717460'), ('33826301', '17478500'), ('36165955', '9150918')], [('34900127', '12824417'), ('34021151', '34025940'), ('16242023', '34226917'), ('19717460', '26791624')], [('34480923', '18667410'), ('29741643', '36839752'), ('12824418', '14978706'), ('35277958', '17976365')], [('12824418', '32976589'), ('20199108', '22190732'), ('30411623', '26803160')], [('35994486', '20947564'), ('22833229', '36271795'), ('34884927', '31060495'), ('32144887', '31028400')]]\n"
     ]
    }
   ],
   "source": [
    "workflows = []\n",
    "rand_workflows = []\n",
    "\n",
    "#TODO: make this a function?\n",
    "for i in range(1, 25):\n",
    "    cwl_file = f\"./workflows/candidate_workflow_{i}.cwl\" #TODO: customise path!!\n",
    "    try:\n",
    "        workflow_pairs, workflow_tools = parse_workflows(cwl_file,cvsfile) # TODO: more than one at a time \n",
    "        workflows.append(workflow_pairs)\n",
    "\n",
    "        rand_workflow_pairs, rand_workflow_tools = radnomise_workflows(included_tools, num_pairs = len(workflow_tools)) # making sure they all have the same amount of tools \n",
    "        rand_workflows.append(rand_workflow_pairs)\n",
    "    except:\n",
    "        print(\"no\", cwl_file)\n",
    "        continue \n",
    "\n",
    "\n",
    "print(workflows, rand_workflows) # wooh thats ineffeicient "
   ]
  },
  {
   "cell_type": "markdown",
   "metadata": {},
   "source": [
    "The workflow directory does not contain WF 8, 9, 18 and 19. So there should be 20, let's check:"
   ]
  },
  {
   "cell_type": "code",
   "execution_count": null,
   "metadata": {},
   "outputs": [
    {
     "name": "stdout",
     "output_type": "stream",
     "text": [
      "20 20\n"
     ]
    }
   ],
   "source": [
    "print(len(workflows), len( rand_workflows))"
   ]
  },
  {
   "cell_type": "code",
   "execution_count": null,
   "metadata": {},
   "outputs": [
    {
     "name": "stdout",
     "output_type": "stream",
     "text": [
      "[0.0, 0.0, 0.0, 0.0, 0.0, 0.0, 0.75, 0.0, 0.0, 0.25, 0.0, 0.0, 0.0, 0.0, 0.0, 0.0, 0.0, 0.0, 0.0, 0.0] [289.5, 38.5, 323.5, 27.0, 18.333333333333332, 27.0, 16.0, 16.4, 58.0, 26.0, 196.66666666666666, 162.25, 23.666666666666668, 19.333333333333332, 27.0, 18.333333333333332, 19.333333333333332, 26.0, 18.333333333333332, 35.25]\n"
     ]
    }
   ],
   "source": [
    "scores=[]\n",
    "rand_scores =[]\n",
    "\n",
    "for i in range(len(workflows)):\n",
    "    metric_score, raw_results = comet(G, workflows[i])\n",
    "    rand_metric_score, rand_raw_results = comet(G, rand_workflows[i])\n",
    "\n",
    "    scores.append(metric_score)\n",
    "    rand_scores.append(rand_metric_score)\n",
    "    \n",
    "print(rand_scores, scores)"
   ]
  },
  {
   "cell_type": "code",
   "execution_count": null,
   "metadata": {},
   "outputs": [
    {
     "data": {
      "image/png": "[encoded data removed]",
      "text/plain": [
       "<Figure size 640x480 with 1 Axes>"
      ]
     },
     "metadata": {},
     "output_type": "display_data"
    }
   ],
   "source": [
    "\n",
    "plt.scatter(scores, scores, color='blue', label='Non-random')\n",
    "plt.scatter(rand_scores, rand_scores, color='red', label='Random')\n",
    "\n",
    "plt.xlabel('Metric Score')\n",
    "plt.ylabel('Metric Score')\n",
    "plt.show()\n"
   ]
  },
  {
   "cell_type": "code",
   "execution_count": null,
   "metadata": {},
   "outputs": [
    {
     "data": {
      "image/png": "[encoded data removed]",
      "text/plain": [
       "<Figure size 640x480 with 1 Axes>"
      ]
     },
     "metadata": {},
     "output_type": "display_data"
    }
   ],
   "source": [
    "\n",
    "fig, ax = plt.subplots()\n",
    "\n",
    "ax.hist(scores, bins=20, color='blue', alpha=0.5, label='Non-random')\n",
    "\n",
    "ax.hist(rand_scores, bins=20, color='red', alpha=0.5, label='Random')\n",
    "\n",
    "ax.set_xlabel('Metric Score')\n",
    "ax.set_ylabel('Frequency')\n",
    "ax.legend()\n",
    "\n",
    "ax.set_xscale('log') # because otherwise not showing up in same plot for some reason\n",
    "\n",
    "# Show plot\n",
    "plt.show()\n"
   ]
  },
  {
   "cell_type": "markdown",
   "metadata": {},
   "source": [
    "Obviously this comparison is not very fair and we should make sure that the \"functional workflows\" are drawn from the same set as the randoms, whereas now they are drawn from a very small subset of very well annotated tools. This is more to show that the comparison works, not that the results are reliable. "
   ]
  },
  {
   "cell_type": "markdown",
   "metadata": {},
   "source": [
    "## Visualisation\n"
   ]
  },
  {
   "cell_type": "markdown",
   "metadata": {},
   "source": [
    "Using cytoscape to visualise the network"
   ]
  },
  {
   "cell_type": "code",
   "execution_count": 9,
   "metadata": {},
   "outputs": [
    {
     "name": "stdout",
     "output_type": "stream",
     "text": [
      "Applying default style...\n",
      "Applying preferred layout\n"
     ]
    },
    {
     "data": {
      "text/plain": [
       "346802"
      ]
     },
     "execution_count": 9,
     "metadata": {},
     "output_type": "execute_result"
    }
   ],
   "source": [
    "\n",
    "current_time = datetime.now().strftime(\"%Y%m%d%H%M\")\n",
    "\n",
    "p4c.create_network_from_igraph(G, f\"Cocitations_Size{len(included_tools)}_{current_time}\", collection=\"Citation networks\")\n",
    "\n",
    "# edge_attributes = p4c.get_table_columns(table='edge', columns=['weight'])\n",
    "# weights = edge_attributes['weight']"
   ]
  },
  {
   "cell_type": "code",
   "execution_count": null,
   "metadata": {},
   "outputs": [],
   "source": [
    "print(\"Styling graph\")\n",
    "p4c.set_node_shape_default(\"ELLIPSE\")\n",
    "p4c.set_node_width_default(30)\n",
    "p4c.set_node_height_default(30)\n",
    "p4c.set_node_border_color_default(\"#000000\")  # Black color in hexadecimal\n",
    "p4c.set_node_border_width_default(1)\n",
    "p4c.set_node_color_bypass(included_tools, \"#FF0000\")  # Red color in hexadecimal\n",
    "p4c.set_node_size_bypass(included_tools, 100)  # remember it cannot be a np.array, just a list argh "
   ]
  },
  {
   "cell_type": "code",
   "execution_count": null,
   "metadata": {},
   "outputs": [],
   "source": [
    "# Styling edges\n",
    "p4c.set_edge_label_mapping('weight')\n",
    "p4c.set_edge_line_width_mapping(**p4c.gen_edge_width_map('weight', mapping_type='c'))"
   ]
  }
 ],
 "metadata": {
  "kernelspec": {
   "display_name": "workflomics",
   "language": "python",
   "name": "python3"
  },
  "language_info": {
   "codemirror_mode": {
    "name": "ipython",
    "version": 3
   },
   "file_extension": ".py",
   "mimetype": "text/x-python",
   "name": "python",
   "nbconvert_exporter": "python",
   "pygments_lexer": "ipython3",
   "version": "3.9.19"
  }
 },
 "nbformat": 4,
 "nbformat_minor": 2
}
