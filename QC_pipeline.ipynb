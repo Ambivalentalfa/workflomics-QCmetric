{
 "cells": [
  {
   "cell_type": "markdown",
   "metadata": {},
   "source": [
    "# Super organised modular notebook\n"
   ]
  },
  {
   "cell_type": "markdown",
   "metadata": {},
   "source": [
    "## Imports and installation"
   ]
  },
  {
   "cell_type": "markdown",
   "metadata": {},
   "source": [
    "You can install the packages needed using the following command `pip install -r requirements.txt`  where the file contains the following:\n",
    "\n",
    "<div class=\"alert alert-block alert-info\">\n",
    "\n",
    "aiohttp==3.9.5\\\n",
    "asyncio==3.4.3\\\n",
    "igraph\\\n",
    "requests\\\n",
    "py4cytoscape==1.9.0\\\n",
    "pandas\\\n",
    "tqdm==4.66.2\\\n",
    "numpy\\\n",
    "matplotlib\\\n",
    "nest_asyncio\\\n",
    "jsonpath-ng\\\n",
    "ruamel.yaml\\\n",
    "cwl_utils\n",
    "</div>\n",
    "\n",
    "Please note that Cytoscape has to be installed and open on your machine for visualisation to work."
   ]
  },
  {
   "cell_type": "code",
   "execution_count": 8,
   "metadata": {
    "metadata": {}
   },
   "outputs": [],
   "source": [
    "import os\n",
    "import numpy as np\n",
    "import matplotlib.pyplot as plt\n",
    "import sys\n",
    "from datetime import datetime\n",
    "import igraph              \n",
    "import py4cytoscape as p4c  # Cytoscape for visualisation of the citaton graph, \n",
    "                            # note that Cytoscape has to be installed and open on your machine for visualisation to work\n",
    "import glob\n",
    "sys.path.insert(0, os.path.abspath(os.path.join(os.getcwd(), 'src')))\n",
    "\n",
    "import asyncio\n",
    "import nest_asyncio\n",
    "nest_asyncio.apply()\n",
    "\n",
    "from wfqc.network import create_citation_network \n",
    "from wfqc.workflow import *\n",
    "from wfqc.metrics import *"
   ]
  },
  {
   "cell_type": "markdown",
   "metadata": {},
   "source": [
    "Check that the packages are installed and functional "
   ]
  },
  {
   "cell_type": "code",
   "execution_count": 9,
   "metadata": {
    "metadata": {}
   },
   "outputs": [
    {
     "name": "stdout",
     "output_type": "stream",
     "text": [
      "igraph version: 0.11.5\n",
      "Make sure to have Cytoscape installed and open (or don't, if you don't care about the visualisation)!\n"
     ]
    },
    {
     "name": "stderr",
     "output_type": "stream",
     "text": [
      "In cyrest_get: Cannot find local or remote Cytoscape. Start Cytoscape and then proceed.\n"
     ]
    }
   ],
   "source": [
    "print(\"igraph version:\", igraph.__version__) #TODO: sometimes this runs forever when it does not find cytoscape, sometimes not. check why\n",
    "try: \n",
    "    dir(p4c)\n",
    "    p4c.cytoscape_ping()    \n",
    "    print(\"Cytoscape version:\",p4c.cytoscape_version_info()['cytoscapeVersion'])    \n",
    "except:\n",
    "    print (\"Make sure to have Cytoscape installed and open (or don't, if you don't care about the visualisation)!\")"
   ]
  },
  {
   "cell_type": "markdown",
   "metadata": {},
   "source": [
    "In this pipeline I will be using the topic proteomics, but the method is not domain specific and works for any properly annotated CWL workflow. "
   ]
  },
  {
   "cell_type": "code",
   "execution_count": 10,
   "metadata": {},
   "outputs": [],
   "source": [
    "topicID = \"topic_0121\" # proteomics, which is also the default"
   ]
  },
  {
   "cell_type": "markdown",
   "metadata": {},
   "source": [
    "## Downloading data "
   ]
  },
  {
   "cell_type": "markdown",
   "metadata": {},
   "source": [
    "Looking at the documentatio of the imported functions to see everythign is working as intended can be done by running `help(wfqc.data)` "
   ]
  },
  {
   "cell_type": "markdown",
   "metadata": {},
   "source": [
    "## Graph generation"
   ]
  },
  {
   "cell_type": "markdown",
   "metadata": {},
   "source": [
    "### Load data"
   ]
  },
  {
   "cell_type": "code",
   "execution_count": 11,
   "metadata": {
    "metadata": {}
   },
   "outputs": [],
   "source": [
    "# path_to_data = 'data/out_cocitation'\n",
    "path_to_data = 'out_202407041439' #'old_outs/out_202406061622'\n",
    "\n",
    "G = create_citation_network(inpath=path_to_data) # TODO: if no data then make data or ask if make data?\n"
   ]
  },
  {
   "cell_type": "markdown",
   "metadata": {},
   "source": [
    "### Generate new graph\n"
   ]
  },
  {
   "cell_type": "markdown",
   "metadata": {},
   "source": [
    "#### Test size"
   ]
  },
  {
   "cell_type": "markdown",
   "metadata": {},
   "source": [
    "For example with a smaller testsize "
   ]
  },
  {
   "cell_type": "code",
   "execution_count": null,
   "metadata": {},
   "outputs": [],
   "source": [
    "G = asyncio.run(create_citation_network(loadData=False, testSize=20))\n",
    "print(G.vs['name'])"
   ]
  },
  {
   "cell_type": "markdown",
   "metadata": {},
   "source": [
    "#### Full network"
   ]
  },
  {
   "cell_type": "markdown",
   "metadata": {},
   "source": [
    "Or the entire bio.tools database proteomics topic (default), or another specified topic:"
   ]
  },
  {
   "cell_type": "code",
   "execution_count": 3,
   "metadata": {},
   "outputs": [
    {
     "ename": "NameError",
     "evalue": "name 'topicID' is not defined",
     "output_type": "error",
     "traceback": [
      "\u001b[0;31m---------------------------------------------------------------------------\u001b[0m",
      "\u001b[0;31mNameError\u001b[0m                                 Traceback (most recent call last)",
      "Cell \u001b[0;32mIn[3], line 1\u001b[0m\n\u001b[0;32m----> 1\u001b[0m G \u001b[38;5;241m=\u001b[39m create_citation_network(loadData\u001b[38;5;241m=\u001b[39m\u001b[38;5;28;01mFalse\u001b[39;00m, topicID \u001b[38;5;241m=\u001b[39m \u001b[43mtopicID\u001b[49m) \n",
      "\u001b[0;31mNameError\u001b[0m: name 'topicID' is not defined"
     ]
    }
   ],
   "source": [
    "G = create_citation_network(loadData=False, topicID = topicID) "
   ]
  },
  {
   "cell_type": "markdown",
   "metadata": {},
   "source": [
    "Lets check what attributes the co-citation graph has, and that the it was correctly generated"
   ]
  },
  {
   "cell_type": "code",
   "execution_count": 6,
   "metadata": {},
   "outputs": [
    {
     "name": "stdout",
     "output_type": "stream",
     "text": [
      "Graph-level attributes: ['name']\n",
      "Edge-level attributes: ['weight']\n",
      "Max edge weight is 1986, min edge weight is 1\n"
     ]
    }
   ],
   "source": [
    "graph_attributes = G.vs.attributes()\n",
    "print(\"Graph-level attributes:\", graph_attributes)\n",
    "\n",
    "edge_attributes = G.es.attributes()\n",
    "print(\"Edge-level attributes:\", edge_attributes)\n",
    "print(f\"Max edge weight is {max(list(G.es['weight']))}, min edge weight is {min(G.es['weight'])}\")"
   ]
  },
  {
   "cell_type": "code",
   "execution_count": 8,
   "metadata": {},
   "outputs": [],
   "source": [
    "degrees = [vs.degree() for vs in G.vs]\n",
    "weigths_edges = G.es['weight']"
   ]
  },
  {
   "cell_type": "code",
   "execution_count": 9,
   "metadata": {},
   "outputs": [
    {
     "data": {
      "image/png": "[encoded data removed]",
      "text/plain": [
       "<Figure size 640x480 with 1 Axes>"
      ]
     },
     "metadata": {},
     "output_type": "display_data"
    },
    {
     "data": {
      "image/png": "[encoded data removed]",
      "text/plain": [
       "<Figure size 640x480 with 1 Axes>"
      ]
     },
     "metadata": {},
     "output_type": "display_data"
    }
   ],
   "source": [
    "plt.hist(degrees, bins=500\n",
    "         )\n",
    "plt.show()\n",
    "plt.hist(weigths_edges, bins=500\n",
    "         )\n",
    "plt.yscale('log')\n",
    "plt.show()"
   ]
  },
  {
   "cell_type": "code",
   "execution_count": 10,
   "metadata": {},
   "outputs": [
    {
     "name": "stdout",
     "output_type": "stream",
     "text": [
      "median weight: 1.0\n",
      "mean weight: 4.582077307589575\n"
     ]
    }
   ],
   "source": [
    "print(\"median weight:\",  np.median(list(G.es['weight'])))\n",
    "print(\"mean weight:\",np.mean(list(G.es['weight'])))"
   ]
  },
  {
   "cell_type": "markdown",
   "metadata": {},
   "source": [
    "## The metric"
   ]
  },
  {
   "cell_type": "markdown",
   "metadata": {},
   "source": [
    "### Download workflow data\n"
   ]
  },
  {
   "cell_type": "markdown",
   "metadata": {},
   "source": [
    "Load the latest bio.tools file "
   ]
  },
  {
   "cell_type": "code",
   "execution_count": 67,
   "metadata": {},
   "outputs": [],
   "source": [
    "date_format = \"%Y%m%d\"\n",
    "pattern = f'biotools_metadata_{topicID}*'\n",
    "matching_files = glob.glob(pattern)\n",
    "\n",
    "if matching_files:\n",
    "    matching_files.sort(key=os.path.getmtime)\n",
    "    csvfile = matching_files[-1] # get the latest file\n",
    "    print(f\"Bio.tools data loaded from existing CSV file {csvfile}.\")\n"
   ]
  },
  {
   "cell_type": "code",
   "execution_count": 69,
   "metadata": {},
   "outputs": [],
   "source": [
    "#\"no longer using that so lets temp define it\"\n",
    "csvfile ='tests/data/biotools_metadata_topic_0121_20250516.csv'"
   ]
  },
  {
   "cell_type": "markdown",
   "metadata": {},
   "source": [
    "Test that loading one workflow works"
   ]
  },
  {
   "cell_type": "code",
   "execution_count": 76,
   "metadata": {},
   "outputs": [
    {
     "name": "stdout",
     "output_type": "stream",
     "text": [
      "[('24727770', '10612281'), ('23536269', '10612281'), ('24727770', '20673335'), ('20673335', '24727770')] [(np.str_('16335983'), np.str_('32714868')), (np.str_('20049890'), np.str_('31878100')), (np.str_('31075275'), np.str_('36912639')), (np.str_('32133024'), np.str_('36094961'))]\n"
     ]
    }
   ],
   "source": [
    "cwl_file = \"./workflows/APE/candidate_workflow_2.cwl\" # loading one of the APE generated workflows \n",
    "included_tools = G.vs['name'] # no longer used but ok\n",
    "\n",
    "workflow_pairs, workflow_tools = parse_undocumented_workflows(cwl_file, csvfile) # TODO: more than one at a time? \n",
    "\n",
    "rand_workflow_pairs, rand_workflow_tools = radnomise_workflows(included_tools, len(workflow_pairs)) # TODO: could improve the rand wf method to have the same shape as the og nw by \n",
    "                                                                                                    # adding \n",
    "\n",
    "print(workflow_pairs, rand_workflow_pairs)"
   ]
  },
  {
   "cell_type": "markdown",
   "metadata": {},
   "source": [
    "could add visualisation of the workflows and the original workflows. "
   ]
  },
  {
   "cell_type": "markdown",
   "metadata": {},
   "source": [
    "### Calculate metric"
   ]
  },
  {
   "cell_type": "markdown",
   "metadata": {},
   "source": [
    "<div class=\"alert alert-block alert-warning\">\n",
    "<b>OBS:</b> This is a simple placeholder implementation of a metric\n",
    "</div>"
   ]
  },
  {
   "cell_type": "markdown",
   "metadata": {},
   "source": [
    "Test that calculating the metric for one workflow works"
   ]
  },
  {
   "cell_type": "code",
   "execution_count": 77,
   "metadata": {},
   "outputs": [
    {
     "name": "stdout",
     "output_type": "stream",
     "text": [
      "[2, 2, 2, 2]\n",
      "Total cocitation score for workflow [('24727770', '10612281'), ('23536269', '10612281'), ('24727770', '20673335'), ('20673335', '24727770')] is 2.0.\n"
     ]
    }
   ],
   "source": [
    "# For one workflow\n",
    "metric_score, raw_results = sum_metric(G, workflow_pairs, included_tools)\n",
    "\n",
    "print(raw_results)\n",
    "print(f\"Total cocitation score for workflow {workflow_pairs} is {metric_score}.\")\n"
   ]
  },
  {
   "cell_type": "markdown",
   "metadata": {},
   "source": [
    "### Evaluate results "
   ]
  },
  {
   "cell_type": "markdown",
   "metadata": {},
   "source": [
    "OBS: This section continues with the co-citation graph in mind"
   ]
  },
  {
   "cell_type": "markdown",
   "metadata": {},
   "source": [
    "These are the tools included in workflomics, but we will not use them right now"
   ]
  },
  {
   "cell_type": "code",
   "execution_count": 14,
   "metadata": {},
   "outputs": [],
   "source": [
    "workflomics_tools = {\"Comet\":\"23148064\" , \"PeptideProphet\":\"12403597\" ,\"ProteinProphet\":\"14632076\" ,\"StPeter\":\"29400476\" ,\"mzRecal\":\"33538780\" ,\n",
    "                     \"idconvert\":\"23051804\" ,\"msconvert\":\"23051804\" ,\"GOEnrichment\":None ,\"gProfiler\":'27098042' ,\"ms_amanda\":'24909410' ,\n",
    "                       \"msfragger\":'28394336' , \"protXml2IdList\":None }\n",
    "# some of them do not have pmid info"
   ]
  },
  {
   "cell_type": "markdown",
   "metadata": {},
   "source": [
    "If the workflows contain only annotated tools:"
   ]
  },
  {
   "cell_type": "code",
   "execution_count": null,
   "metadata": {},
   "outputs": [],
   "source": [
    "workflows = []\n",
    "rand_workflows = []\n",
    "\n",
    "#TODO: make this a function?\n",
    "#TODO. verify all the functions involved in this using some mock nw or sth\n",
    "\n",
    "#def load_workflows(workflow_directory)\n",
    "\n",
    "pattern = f'workflows/APE/candidate_workflow_*'\n",
    "matching_files = glob.glob(pattern)\n",
    "#nr_files = len(matching_files)\n",
    "\n",
    "# Right now as the name generation is wrong: \n",
    "\n",
    "sorted_match = np.sort([int(path.split(\"_\")[-1].strip(\".cwl\")) for path in matching_files])\n",
    "nr_files = sorted_match[-1]\n",
    "\n",
    "\n",
    "for i in range(1, nr_files+1):\n",
    "\n",
    "    if '8' in str(i) or '9' in str(i):\n",
    "        i += 1\n",
    "        continue\n",
    "\n",
    "\n",
    "    cwl_file = f\"workflows/APE/candidate_workflow_{i}.cwl\"\n",
    "    try:\n",
    "        workflow_pairs, workflow_tools = parse_workflows(cwl_file, csvfile) # TODO: more than one at a time  #TODO: thsi is no longer a list f pmids, thus it is not functional\n",
    "        workflows.append(workflow_pairs)\n",
    "\n",
    "        rand_workflow_pairs, rand_workflow_tools = radnomise_workflows(included_tools, num_pairs = len(workflow_tools)) # making sure they all have the same amount of tools \n",
    "        rand_workflows.append(rand_workflow_pairs)\n",
    "    except:\n",
    "        print(\"no\", cwl_file)\n",
    "        continue \n",
    "\n",
    "\n",
    "print(workflows, rand_workflows) # wooh thats ineffeicient "
   ]
  },
  {
   "cell_type": "markdown",
   "metadata": {},
   "source": [
    "If the workflows contain non annotated tools:\n"
   ]
  },
  {
   "cell_type": "code",
   "execution_count": null,
   "metadata": {},
   "outputs": [],
   "source": [
    "workflows = []\n",
    "rand_workflows = []\n",
    "\n",
    "#TODO: make this a function?\n",
    "#TODO. verify all the functions involved in this using some mock nw or sth\n",
    "\n",
    "pattern = f'workflows/APE/candidate_workflow_*'\n",
    "matching_files = glob.glob(pattern)\n",
    "#nr_files = len(matching_files)\n",
    "\n",
    "# Right now as the name generation is wrong: \n",
    "\n",
    "sorted_match = np.sort([int(path.split(\"_\")[-1].strip(\".cwl\")) for path in matching_files])\n",
    "nr_files = sorted_match[-1]\n",
    "actural_nr_files =  len(matching_files)\n",
    "\n",
    "nr_not_func = 0\n",
    "\n",
    "for i in range(1, nr_files+1):\n",
    "\n",
    "    if '8' in str(i) or '9' in str(i):\n",
    "        continue\n",
    "\n",
    "\n",
    "    cwl_file = f\"workflows/APE/candidate_workflow_{i}.cwl\"\n",
    "    try:\n",
    "        workflow_pairs, workflow_tools = parse_undocumented_workflows(cwl_file, csvfile) # TODO: more than one at a time \n",
    "        workflows.append(workflow_pairs)\n",
    "\n",
    "        rand_workflow_pairs, rand_workflow_tools = radnomise_workflows(included_tools, num_pairs = len(workflow_tools)) # making sure they all have the same amount of tools \n",
    "        rand_workflows.append(rand_workflow_pairs)\n",
    "    except:\n",
    "        nr_not_func += 1\n",
    "        continue \n",
    "\n",
    "\n",
    "print(workflows, rand_workflows) "
   ]
  },
  {
   "cell_type": "markdown",
   "metadata": {},
   "source": [
    "The workflows may contain tools that are not in our bio.tools file (they dont have pmids), so let's check how many we got:"
   ]
  },
  {
   "cell_type": "code",
   "execution_count": 83,
   "metadata": {},
   "outputs": [
    {
     "name": "stdout",
     "output_type": "stream",
     "text": [
      "953  out of  1000\n"
     ]
    }
   ],
   "source": [
    "print(len(workflows), \" out of \", actural_nr_files)"
   ]
  },
  {
   "cell_type": "markdown",
   "metadata": {},
   "source": [
    "If you want to save them:"
   ]
  },
  {
   "cell_type": "code",
   "execution_count": 186,
   "metadata": {},
   "outputs": [],
   "source": [
    "import pickle\n",
    "savewf = True\n",
    "if savewf:\n",
    "    with open('./wfedges.pkl', 'wb') as f:\n",
    "        pickle.dump(workflows, f)\n",
    "    with open('./rndwfedges.pkl', 'wb') as f:\n",
    "        pickle.dump(rand_workflows, f)\n"
   ]
  },
  {
   "cell_type": "markdown",
   "metadata": {},
   "source": [
    "Run the metric on all tools"
   ]
  },
  {
   "cell_type": "code",
   "execution_count": 84,
   "metadata": {},
   "outputs": [
    {
     "name": "stderr",
     "output_type": "stream",
     "text": [
      "/home/alma/Documents/UU/Thesis/Git/workflomics-QCmetric/src/wfqc/metrics.py:97: RuntimeWarning: Couldn't reach some vertices. at src/paths/dijkstra.c:534\n",
      "  results = G.get_shortest_paths(source, to=target, weights=G.es[\"weight\"], output=\"epath\")\n"
     ]
    }
   ],
   "source": [
    "scores=[]\n",
    "rand_scores =[]\n",
    "\n",
    "for i in range(len(workflows)):\n",
    "    metric_score, raw_results = sum_metric(G, workflows[i], included_tools)\n",
    "    rand_metric_score, rand_raw_results = sum_metric(G, rand_workflows[i], included_tools)\n",
    "\n",
    "    scores.append(metric_score)\n",
    "    rand_scores.append(rand_metric_score)\n",
    "    "
   ]
  },
  {
   "cell_type": "markdown",
   "metadata": {},
   "source": [
    "This is the shortest path measurement, so the lower the metric score the \"better\""
   ]
  },
  {
   "cell_type": "code",
   "execution_count": 198,
   "metadata": {},
   "outputs": [
    {
     "data": {
      "image/png": "[encoded data removed]",
      "text/plain": [
       "<Figure size 640x480 with 1 Axes>"
      ]
     },
     "metadata": {},
     "output_type": "display_data"
    }
   ],
   "source": [
    "\n",
    "plt.scatter(scores, scores, color='blue', label='Non-random')\n",
    "plt.scatter(rand_scores, rand_scores, color='red', label='Random')\n",
    "\n",
    "plt.xlabel('Metric Score')\n",
    "plt.ylabel('Metric Score')\n",
    "plt.legend()\n",
    "plt.show()\n"
   ]
  },
  {
   "cell_type": "code",
   "execution_count": 199,
   "metadata": {},
   "outputs": [
    {
     "data": {
      "image/png": "[encoded data removed]",
      "text/plain": [
       "<Figure size 640x480 with 1 Axes>"
      ]
     },
     "metadata": {},
     "output_type": "display_data"
    }
   ],
   "source": [
    "\n",
    "fig, ax = plt.subplots()\n",
    "\n",
    "ax.hist(scores, bins=20, color='blue', alpha=0.5, label='Non-random workflows')\n",
    "\n",
    "ax.hist(rand_scores, bins=20, color='red', alpha=0.5, label='Random workflows')\n",
    "\n",
    "ax.set_xlabel('Metric Score')\n",
    "ax.set_ylabel('Frequency')\n",
    "ax.legend()\n",
    "\n",
    "\n",
    "# Show plot\n",
    "plt.show()\n"
   ]
  },
  {
   "cell_type": "code",
   "execution_count": 200,
   "metadata": {},
   "outputs": [
    {
     "data": {
      "image/png": "[encoded data removed]",
      "text/plain": [
       "<Figure size 640x480 with 1 Axes>"
      ]
     },
     "metadata": {},
     "output_type": "display_data"
    }
   ],
   "source": [
    "\n",
    "fig, ax = plt.subplots()\n",
    "\n",
    "ax.hist(scores, bins=20, color='blue', alpha=0.5, label='Non-random')\n",
    "\n",
    "ax.hist(rand_scores, bins=20, color='red', alpha=0.5, label='Random')\n",
    "\n",
    "ax.set_xlabel('Metric Score')\n",
    "ax.set_ylabel('Frequency')\n",
    "ax.legend()\n",
    "\n",
    "ax.set_xscale('log') # focus on blue dist\n",
    "\n",
    "# Show plot\n",
    "plt.show()\n"
   ]
  },
  {
   "cell_type": "markdown",
   "metadata": {},
   "source": [
    "Obviously this comparison is not very fair and we should make sure that the \"functional workflows\" are drawn from the same set as the randoms, whereas now they are drawn from a very small subset of very well annotated tools. This is more to show that the comparison works, not that the results are reliable. "
   ]
  },
  {
   "cell_type": "markdown",
   "metadata": {},
   "source": [
    "## Visualisation\n"
   ]
  },
  {
   "cell_type": "markdown",
   "metadata": {},
   "source": [
    "Using cytoscape to visualise the network"
   ]
  },
  {
   "cell_type": "code",
   "execution_count": 63,
   "metadata": {},
   "outputs": [
    {
     "name": "stdout",
     "output_type": "stream",
     "text": [
      "Applying default style...\n",
      "Applying preferred layout\n"
     ]
    },
    {
     "data": {
      "text/plain": [
       "362"
      ]
     },
     "execution_count": 63,
     "metadata": {},
     "output_type": "execute_result"
    }
   ],
   "source": [
    "\n",
    "current_time = datetime.now().strftime(\"%Y%m%d%H%M\")\n",
    "\n",
    "p4c.create_network_from_igraph(G, f\"Cocitations_{current_time}\", collection=\"Citation networks\")\n",
    "\n",
    "# edge_attributes = p4c.get_table_columns(table='edge', columns=['weight'])\n",
    "# weights = edge_attributes['weight']"
   ]
  },
  {
   "cell_type": "code",
   "execution_count": null,
   "metadata": {},
   "outputs": [],
   "source": [
    "print(\"Styling graph\")\n",
    "p4c.set_node_shape_default(\"ELLIPSE\")\n",
    "p4c.set_node_width_default(30)\n",
    "p4c.set_node_height_default(30)\n",
    "p4c.set_node_border_color_default(\"#000000\")  # Black color in hexadecimal\n",
    "p4c.set_node_border_width_default(1)\n"
   ]
  },
  {
   "cell_type": "code",
   "execution_count": null,
   "metadata": {},
   "outputs": [],
   "source": [
    "# Styling edges\n",
    "p4c.set_edge_label_mapping('weight')\n",
    "p4c.set_edge_line_width_mapping(**p4c.gen_edge_width_map('weight', mapping_type='c'))"
   ]
  }
 ],
 "metadata": {
  "kernelspec": {
   "display_name": "workflomics",
   "language": "python",
   "name": "python3"
  },
  "language_info": {
   "codemirror_mode": {
    "name": "ipython",
    "version": 3
   },
   "file_extension": ".py",
   "mimetype": "text/x-python",
   "name": "python",
   "nbconvert_exporter": "python",
   "pygments_lexer": "ipython3",
   "version": "3.9.19"
  }
 },
 "nbformat": 4,
 "nbformat_minor": 2
}
