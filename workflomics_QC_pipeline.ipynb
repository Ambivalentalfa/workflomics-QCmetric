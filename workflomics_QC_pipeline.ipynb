{
 "cells": [
  {
   "cell_type": "markdown",
   "metadata": {},
   "source": [
    "# Super organised modular notebook\n"
   ]
  },
  {
   "cell_type": "markdown",
   "metadata": {},
   "source": [
    "## Imports and installation"
   ]
  },
  {
   "cell_type": "markdown",
   "metadata": {},
   "source": [
    "You can install the packages needed using the following command `pip install -r requirements.txt`  where the file contains the following:\n",
    "\n",
    "<div class=\"alert alert-block alert-info\">\n",
    "\n",
    "aiohttp==3.9.5\\\n",
    "asyncio==3.4.3\\\n",
    "igraph\\\n",
    "requests\\\n",
    "py4cytoscape==1.9.0\\\n",
    "pandas\\\n",
    "tqdm==4.66.2\\\n",
    "numpy\n",
    "</div>\n",
    "\n",
    "Please note that Cytoscape has to be installed and open on your machine for visualisation to work."
   ]
  },
  {
   "cell_type": "code",
   "execution_count": 126,
   "metadata": {},
   "outputs": [],
   "source": [
    "# General packages\n",
    "import pandas as pd         \n",
    "import os\n",
    "from tqdm import tqdm       \n",
    "import pickle\n",
    "import numpy as np\n",
    "from datetime import datetime, timedelta\n",
    "import glob\n",
    "import sys\n",
    "import matplotlib.pyplot as plt\n",
    "\n",
    "\n",
    "# define format, and set parameters for time, TODO: rm?  \n",
    "date_format = \"%Y_%m_%d_%H_%M\" \n",
    "current_date = datetime.now().strftime(date_format)\n",
    "last_week_date = (datetime.now() - timedelta(days=7)).strftime(date_format)\n",
    "\n",
    "\n",
    "\n",
    "# Project specific packages\n",
    "import aiohttp              # Used for aggregating requests into single session\n",
    "import asyncio              # -\"-\n",
    "import nest_asyncio         # For jupyter asyncio compatibility \n",
    "nest_asyncio.apply()        # Automatically takes into account how jupyter handles running event loops\n",
    "\n",
    "# TODO: import jsonpath_ng.ext      # More efficient json processing look into if actually computationally more efficient \n",
    "import igraph               # Used to create te citationa graph \n",
    "import requests             # For single API requests \n",
    "\n",
    "# workflow parsing \n",
    "from cwl_utils.parser import load_document_by_uri, save # for workflow parsing \n",
    "from ruamel import yaml\n",
    "\n",
    "\n",
    "\n",
    "# Visualisation \n",
    "import py4cytoscape as p4c  # Cytoscape for visualisation of the citaton graph, \n",
    "                            # note that Cytoscape has to be installed and open on your machine for visualisation to work"
   ]
  },
  {
   "cell_type": "markdown",
   "metadata": {},
   "source": [
    "Check that the packages are installed and functional "
   ]
  },
  {
   "cell_type": "code",
   "execution_count": 25,
   "metadata": {},
   "outputs": [
    {
     "name": "stdout",
     "output_type": "stream",
     "text": [
      "igraph version: 0.11.4\n",
      "You are connected to Cytoscape!\n",
      "Cytoscape version: 3.10.2\n"
     ]
    }
   ],
   "source": [
    "print(\"igraph version:\", igraph.__version__)\n",
    "try: \n",
    "    dir(p4c)\n",
    "    p4c.cytoscape_ping() \n",
    "    print(\"Cytoscape version:\",p4c.cytoscape_version_info()['cytoscapeVersion'])    \n",
    "except:\n",
    "    print (\"Make sure to have Cytoscape installed and open (or don't, if you don't care about the visualisation)!\")\n"
   ]
  },
  {
   "cell_type": "markdown",
   "metadata": {},
   "source": [
    "## Downloading data "
   ]
  },
  {
   "cell_type": "code",
   "execution_count": 26,
   "metadata": {},
   "outputs": [
    {
     "data": {
      "text/plain": [
       "'\\n\\n    Function description \\n    \\n    Parameters\\n    ----------\\n    name : type\\n        description\\n'"
      ]
     },
     "execution_count": 26,
     "metadata": {},
     "output_type": "execute_result"
    }
   ],
   "source": [
    "# format: \n",
    "\"\"\"\n",
    "\n",
    "    Function description \n",
    "    \n",
    "    Parameters\n",
    "    ----------\n",
    "    name : type\n",
    "        description\n",
    "\"\"\""
   ]
  },
  {
   "cell_type": "code",
   "execution_count": 27,
   "metadata": {},
   "outputs": [],
   "source": [
    "async def fetch_biotools_page(session, url):\n",
    "    \"\"\" \n",
    "    Sync the bio.tools (page) requests so they are all made in a single session \n",
    "\n",
    "    Parameters\n",
    "    ----------\n",
    "    session : aiohttp.client.ClientSession object\n",
    "        session object for package aiohttp\n",
    "    url : str\n",
    "        url for request\n",
    "    \"\"\"\n",
    "    \n",
    "    async with session.get(url) as response:\n",
    "        return await response.json()"
   ]
  },
  {
   "cell_type": "code",
   "execution_count": 41,
   "metadata": {},
   "outputs": [],
   "source": [
    "async def get_biotools_metadata(topicID=\"topic_0121\"):  # TODO: I removed format. Check if there is any reason to have it \n",
    "                                                        # TODO: should add parameter for optional forced retrieval - even if csv file, still recreate it \n",
    "                                                        # TODO: Currently no timing - add tracker\n",
    "    \"\"\"\n",
    "    Fetches metadata about tools from bio.tools, belonging to a given topicID and returns as a dataframe.\n",
    "    If a CSV file already exists load the dataframe from it. \n",
    "\n",
    "    Parameters\n",
    "    ----------\n",
    "    topicID : str TODO: make this a int instead? why am I writing topic? \n",
    "        The ID to which the tools belongs to, ex. \"Proteomics\" or \"DNA\" as defined by \n",
    "        EDAM ontology (visualisation: https://edamontology.github.io/edam-browser/#topic_0003)\n",
    "\n",
    "    \n",
    "    \"\"\"\n",
    "\n",
    "    date_format = \"%Y%m%d\"\n",
    "\n",
    "    pattern = f'biotools_metadata_{topicID}*'\n",
    "    matching_files = glob.glob(pattern)\n",
    "    if matching_files:\n",
    "        matching_files.sort(key=os.path.getmtime)\n",
    "        csv_filename = matching_files[-1]\n",
    "        \n",
    "        # Check if file older than a week\n",
    "        file_date = datetime.strptime(csv_filename.split('_')[-1].split('.')[0], date_format)\n",
    "        if file_date < datetime.now() - timedelta(days=7):\n",
    "            print(\"Old datafile. Updating...\")\n",
    "        else:\n",
    "            print(\"Bio.tools data loaded from existing CSV file.\")\n",
    "            df = pd.read_csv(csv_filename)\n",
    "            return df\n",
    "    else:\n",
    "        print(\"No existing bio.tools CSV file. Downloading data.\") \n",
    "\n",
    "    # Define the CSV filename\n",
    "    #csv_filename = f'biotools_metadata_{topicID}_{datetime.now().strftime(date_format)}.csv' \n",
    "\n",
    "\n",
    "\n",
    "    \n",
    "    # TODO: should filepath/name be allowed to be configurable?\n",
    "    # then the following could be a separate function called by this one, or is this very inefficient?\n",
    "    # TODO: should place files created in a folder named for each run\n",
    "\n",
    "    all_tool_data = [] # TODO: predefine the length, means one more request \n",
    "\n",
    "    # start at page 1 \n",
    "    page = 1 \n",
    "\n",
    "    # requests are made during single session\n",
    "    async with aiohttp.ClientSession() as session: \n",
    "        while page:\n",
    "\n",
    "            # send request for tools on the page, await further requests \n",
    "            biotools_url = f'https://bio.tools/api/t?topicID=%22{topicID}%22&format=json&page={page}'\n",
    "            biotool_data = await fetch_biotools_page(session, biotools_url)\n",
    "            \n",
    "\n",
    "            # TODO: Do I need to check? what happens if no response for page == 1? Maybe try/except instead\n",
    "            # Checking if there are any tools, if \n",
    "            if 'list' in biotool_data: \n",
    "                biotools_lst = biotool_data['list']\n",
    "\n",
    "\n",
    "                for tool in biotools_lst:\n",
    "                    name = tool.get('name') \n",
    "                    publication = tool.get('publication')\n",
    "                    topic = tool.get('topic')\n",
    "                    # TODO: decide whether we even want this information since it would only be used for visualisation and possibly teh multitopic graph \n",
    "\n",
    "                    # TODO: if no pmid, use doi converter \n",
    "                    # TODO: Download primary (using jasonpatg-ng), \n",
    "                    if name and publication and publication[0].get('pmid') and topic and topic[0].get('term'): \n",
    "                        all_tool_data.append({ #predefine, since max length == nr_tools, then need to define this earlier\n",
    "                            'name': name,\n",
    "                            'pmid': str(publication[0]['pmid']), # making sure they are all strings\n",
    "                            'topic': topic[0]['term']\n",
    "                        })\n",
    "\n",
    "                page = biotool_data.get('next')\n",
    "                if page: # else page will be None and loop will stop \n",
    "                    page = page.split('=')[-1] # only want the page number \n",
    "            else: \n",
    "                print(f'Error while fetching tool names from page {page}')\n",
    "                break\n",
    "\n",
    "    # Convert list of dictionaries to dataframe\n",
    "    df = pd.DataFrame(all_tool_data)\n",
    "    # Save dataframe to file\n",
    "    df.to_csv(csv_filename, index=False)\n",
    "\n",
    "    # If there were any pages, check how many tools were retrieved and how many tools had pmids\n",
    "    if biotool_data: \n",
    "        nr_tools = int(biotool_data['count']) \n",
    "        print(f'Found {len(all_tool_data)} out of a total of {nr_tools} tools with PMIDS.')\n",
    "\n",
    "    return df"
   ]
  },
  {
   "cell_type": "code",
   "execution_count": 29,
   "metadata": {},
   "outputs": [],
   "source": [
    "def europepmc(article_id, format='JSON', source='MED', page=1, page_size=1000):   # TODO: replace own wrapper with recommendation? https://github.com/ML4LitS/CAPITAL/tree/main\n",
    "                                                                                # TODO: call output=\"idlist\" immidiately? then we have no metadata but we dont use that anyways!\n",
    "    \"\"\" \n",
    "    Downloads pmids for the articles citing the given article_id, returns list of citation pmids (PubMed IDs)\n",
    "        \n",
    "    Parameters\n",
    "    ----------\n",
    "    article_id : str # TODO: int? \n",
    "        pmid, PubMed ID, for a given article.\n",
    "    source: str\n",
    "        source ID as given by the EuropePMC API documentation: https://europepmc.org/Help#contentsources \n",
    "\n",
    "    page, int, default == 1\n",
    "        determines where to start looking TODO: remove this, why would you not start at 1? \n",
    "\n",
    "    pagesize, int, default 1000 max 1000\n",
    "        determines number of results per page\n",
    "    \n",
    "    \"\"\" \n",
    "\n",
    "    # create a url with the given requirements according to the EuropePMC API synthax and query the API\n",
    "    base_url = f'https://www.ebi.ac.uk/europepmc/webservices/rest/{source}/{article_id}/citations?page={page}&pageSize={page_size}&format={format}'\n",
    "    result = requests.get(base_url)\n",
    "\n",
    "    # Return all citations, given the query was accepted\n",
    "    # TODO: jsonpath-ng\n",
    "    if result.ok:\n",
    "        return result.json()['citationList']['citation']\n",
    "    else:\n",
    "        print('Something went wrong') # TODO: better error message. Try/except? \n"
   ]
  },
  {
   "cell_type": "markdown",
   "metadata": {},
   "source": [
    "## Graph generation"
   ]
  },
  {
   "cell_type": "markdown",
   "metadata": {},
   "source": [
    "The function reate_citation_network can be called to create or load the cocitation network"
   ]
  },
  {
   "cell_type": "code",
   "execution_count": 34,
   "metadata": {},
   "outputs": [],
   "source": [
    "#TODO: all of the descriptions - Where do I put default value? \n",
    "\n",
    "def create_citation_network(topicID=\"topic_0121\", testSize=None, randomSeed=42, loadData=True, filePath='', saveFiles=True): # TODO: I just threw  code into this function- improve\n",
    "    \n",
    "    \"\"\"\n",
    "    Creates a citation network given a topic and returns a graph and the tools included in the graph\n",
    "\n",
    "        \n",
    "    Parameters\n",
    "    ----------\n",
    "    topicID : str, default \"topic_0121\" (proteomics) TODO: int? \n",
    "        The ID to which the tools belongs to, ex. \"Proteomics\" or \"DNA\" as defined by \n",
    "        EDAM ontology (visualisation: https://edamontology.github.io/edam-browser/#topic_0003)\n",
    "\n",
    "    testSize : int or None, default None\n",
    "        Determines the number of tools included in the citation graph.\n",
    "\n",
    "    randomSeed : int, default 42\n",
    "        Specifies what seed is used to randomly pick tools in a test run. \n",
    "    \n",
    "    loadData : Boolean, default True\n",
    "        Determines if already generated graph is loaded or if it is recreated.\n",
    "    \n",
    "    filePath : str  TODO: add filepath \n",
    "        Path to already generated graph\n",
    "\n",
    "    saveFiles : Boolean, default True\n",
    "        Determines if newly generated graph is saved. \n",
    "\n",
    "    \"\"\"\n",
    "    # Retrieve the data \n",
    "    # run the asynchronous function for single session requests \n",
    "    result = asyncio.run(get_biotools_metadata(topicID=topicID)) \n",
    "    pmids = result['pmid'].tolist() # should I use numpy for all my lists? \n",
    "\n",
    "    # Randomly picks out a subset of the pmids\n",
    "    if testSize:   \n",
    "        print(f\"Creating test-cocitation network of size {testSize}. Random seed is {randomSeed}.\")\n",
    "        np.random.seed(randomSeed)\n",
    "        pmids = np.random.choice(pmids,testSize)\n",
    "    else:\n",
    "        testSize = '' # temp for the creation of files, so they dotn ahve none in name \n",
    "    \n",
    "    # Edge creation \n",
    "    # Load previously created data or recreate it\n",
    "    if loadData: # TODO: pickle mayebe is not the way to go in future? \n",
    "        \n",
    "        if os.path.isfile(f'edges{testSize}.pkl') and os.path.isfile(f'graph{testSize}.pkl') and os.path.isfile(f'included_tools{testSize}.pkl'): # should give option to specify these names\n",
    "            print(\"Loading saved graph\")\n",
    "            with open(f'edges{testSize}.pkl', 'rb') as f:\n",
    "                unq_edges = pickle.load(f) # should be unique ones right \n",
    "            with open(f'graph{testSize}.pkl', 'rb') as f:\n",
    "                G = pickle.load(f) \n",
    "            with open(f'included_tools{testSize}.pkl', 'rb') as f:\n",
    "                included_tools = pickle.load(f) \n",
    "        else:\n",
    "            print(f\"Files not found. Please check that 'edges{testSize}.pkl', 'graph{testSize}.pkl' and 'included_tools{testSize}.pkl' are in your current directory and run again. Or set loadData = False, to create the files. \")\n",
    "            return \n",
    "   \n",
    "    else:\n",
    "        # edge creation using europepmc\n",
    "        print(\"Downloading citation data from Europepmc.\")\n",
    "        \n",
    "        # this is to create a list of the tools that actually had citations, otherwise they are not included in the graph. \n",
    "        included_tools = []  # TODO: is there a smarter way of generating the included_tools list? \n",
    "        edges = []\n",
    "\n",
    "        # Get citations for each tool, and generate edges between them. \n",
    "        for pmid in tqdm(pmids, desc=\"Processing PMIDs\"): \n",
    "            pmid = str(pmid) # EuropePMC requires str            \n",
    "    \n",
    "            citations = europepmc(pmid, page_size=1000)\n",
    "            for citation in citations:\n",
    "                edges.append((pmid, str(citation['id']))) # TODO: this is the wring way around? shoudl be citation to pmid, no? \n",
    "                if pmid not in included_tools:\n",
    "                    included_tools.append(pmid) \n",
    "        \n",
    "        print(\"Creating citation graph using igraph.\")\n",
    "        \n",
    "        # Finding unique edges by converting list to a set (because tuples are hashable) and back to list.\n",
    "        # TODO: maybe not super efficient? \n",
    "        unq_edges =  list(set(edges)) \n",
    "        print(f\"{len(unq_edges)} unique out of {len(edges)} edges total!\")\n",
    "\n",
    "        # Creating a directed graph with unique edges\n",
    "        G = igraph.Graph.TupleList(unq_edges, directed=True)\n",
    "\n",
    "        # TODO: its starting to get messy man\n",
    "        # Removing disconnected vertices (that are not tools) that do not have information value for the (current) metric\n",
    "        print(\"Removing citations with degree less or equal to 1 (Non co-citations).\")\n",
    "        vertices_to_remove = [v.index for v in G.vs if v.degree() <= 1 and v['name'] not in included_tools] \n",
    "        G.delete_vertices(vertices_to_remove)\n",
    "        vertices_to_remove = [v.index for v in G.vs if v.degree() == 0 ] # second run to remove the copletely detatched ones after first run sicne they wont give info anyways. \n",
    "        G.delete_vertices(vertices_to_remove) # This will remove isolated tools as well \n",
    "\n",
    "        # Updating included_tools to only contain lists that are in the graph  \n",
    "        included_tools = [tool for tool in included_tools if tool in G.vs['name']] # TODO: since I am doing this anyways I could do it with pmids directly and not generate the included_tools list earier?\n",
    "\n",
    "\n",
    "        # Saving edges, graph and tools included in the graph \n",
    "        if saveFiles:\n",
    "            print(f\"Saving data to 'edges{testSize}.pkl', 'graph{testSize}.pkl' and 'included_tools{testSize}.pkl'.\") # sould make these filenames dynamic\n",
    "            # and save them \n",
    "            #Do this nicer later? \n",
    "            with open(f'edges{testSize}.pkl', 'wb') as f:\n",
    "                pickle.dump(unq_edges, f)\n",
    "\n",
    "            with open(f'graph{testSize}.pkl', 'wb') as f:\n",
    "                pickle.dump(G, f)\n",
    "\n",
    "            with open(f'included_tools{testSize}.pkl', 'wb') as f:\n",
    "                pickle.dump(included_tools, f)    \n",
    "\n",
    "    # returns a graph and the pmids of the tools included in the graph (tools connected by cocitations)\n",
    "    return G, included_tools \n"
   ]
  },
  {
   "cell_type": "markdown",
   "metadata": {},
   "source": [
    "## The metric"
   ]
  },
  {
   "cell_type": "markdown",
   "metadata": {},
   "source": [
    "Create the cocitation network specifying if you want to load existing data, run on a smaller test set etc.  "
   ]
  },
  {
   "cell_type": "code",
   "execution_count": 54,
   "metadata": {},
   "outputs": [],
   "source": [
    "# G, included_tools = create_citation_network(testSize=100, loadData=False)\n",
    "\n",
    "#TODO: filepath for input files! \n",
    "# G, included_tools = create_citation_network()\n",
    "\n",
    "\n",
    "# G, included_tools = create_citation_network(loadData=False) # took 20 min for full graph, wtf?\n",
    "\n",
    "G, included_tools = create_citation_network()"
   ]
  },
  {
   "cell_type": "markdown",
   "metadata": {},
   "source": [
    "### Download workflow data\n"
   ]
  },
  {
   "cell_type": "markdown",
   "metadata": {},
   "source": [
    "<div class=\"alert alert-block alert-warning\">\n",
    "<b>OBS:</b> This is not yet implemented. Currently drawing random tools to simulate workflows\n",
    "</div>"
   ]
  },
  {
   "cell_type": "code",
   "execution_count": 63,
   "metadata": {},
   "outputs": [],
   "source": [
    "# TODO: download workflows\n",
    "\n",
    "# TODO: improve randomisation to have sequential networks\n",
    "\n",
    "# number of edges in the workflow\n",
    "\n",
    "def radnomise_workflow(num_pairs = 3):\n",
    "    workflow_pairs = []\n",
    "    while len(workflow_pairs) < num_pairs:\n",
    "        article1 = np.random.choice(included_tools)\n",
    "        article2 = np.random.choice(included_tools)\n",
    "        if article1 != article2:  # Ensure article1 and article2 are different\n",
    "            workflow_pairs.append((article1, article2))\n",
    "\n",
    "    workflow_tools = np.unique([element for tuple in workflow_pairs for element in tuple])\n",
    "    return workflow_pairs, workflow_tools\n",
    "    # print( \"Tools in pseudo WF:\", workflow_tools)\n",
    "    # # Print the generated pairs\n",
    "    # print(\"Generated workflow pairs (WF edges):\")\n",
    "    # for pair in workflow_pairs:\n",
    "    #     print(pair)"
   ]
  },
  {
   "cell_type": "code",
   "execution_count": 61,
   "metadata": {},
   "outputs": [],
   "source": [
    "def parse_workflows(cwl_file):\n",
    "    # Import CWL Object\n",
    "    cwl_obj = load_document_by_uri(cwl_file)\n",
    "\n",
    "    # Extract edges from CWL object\n",
    "    edges = []\n",
    "    for step in cwl_obj.steps:\n",
    "        step_id = step.id.split(\"#\")[-1]\n",
    "        for input_param in step.in_:\n",
    "            if input_param.source:\n",
    "                source_step_id = input_param.source.split('/')[-1].split(\"#\")[-1]\n",
    "                edges.append((source_step_id, step_id))\n",
    "        for output_param in step.out:\n",
    "            edges.append((step_id, output_param.split(\"/\")[-1]))\n",
    "\n",
    "    # Extract pairwise connections between tools\n",
    "    pairwise_connections = set()\n",
    "    for source, target in edges:\n",
    "        if \"_out_\" in source:\n",
    "            tool_id = target.split(\"_\")[0]\n",
    "            for next_target, next_source in edges:\n",
    "                if next_source == source:\n",
    "                    pairwise_connections.add((tool_id, next_target.split(\"_\")[0]))\n",
    "\n",
    "    # Read CSV file containing tool information\n",
    "    csv_filename = 'biotools_metadata_topic_0121_20240429.csv'\n",
    "    f = pd.read_csv(csv_filename)\n",
    "\n",
    "    # Retrieve PMID values for pairwise connections, this should be bio.tools ids instead? \n",
    "    new_edges = []\n",
    "    for edge in pairwise_connections:\n",
    "        source_pmid = f.loc[f['name'] == edge[0], 'pmid'].values[0] if len(f.loc[f['name'] == edge[0], 'pmid']) > 0 else None # neme in small letters too? \n",
    "        target_pmid = f.loc[f['name'] == edge[1], 'pmid'].values[0] if len(f.loc[f['name'] == edge[1], 'pmid']) > 0 else None\n",
    "        if source_pmid is not None and target_pmid is not None:\n",
    "            new_edges.append((str(source_pmid), str(target_pmid)))\n",
    "\n",
    "    # Print new edges\n",
    "    workflow_tools = np.unique([element for tuple in new_edges for element in tuple])\n",
    "\n",
    "    return new_edges, list(workflow_tools)\n",
    "\n",
    "    # # Construct graphs\n",
    "    # G1 = igraph.Graph.TupleList(edges, directed=True)\n",
    "    # G2 = igraph.Graph.TupleList([(target, source) for source, target in edges], directed=True) # rotated\n",
    "    # G3 = igraph.Graph.TupleList(pairwise_connections, directed=True)\n",
    "    # G4 = igraph.Graph.TupleList(new_edges, directed=True)\n",
    "\n"
   ]
  },
  {
   "cell_type": "code",
   "execution_count": 64,
   "metadata": {},
   "outputs": [
    {
     "name": "stdout",
     "output_type": "stream",
     "text": [
      "[('14632076', '23148064'), ('29400476', '23148064'), ('29400476', '14632076')] [('34882763', '21751374'), ('17768164', '36622218'), ('37010503', '31768063')]\n"
     ]
    }
   ],
   "source": [
    "cwl_file = \"../workflows/candidate_workflow_2.cwl\"\n",
    "\n",
    "workflow_pairs, workflow_tools = parse_workflows(cwl_file) # TODO: more than one at a time \n",
    "\n",
    "rand_workflow_pairs, rand_workflow_tools = radnomise_workflow(num_pairs = 3)\n",
    "\n",
    "print(workflow_pairs, rand_workflow_pairs)"
   ]
  },
  {
   "cell_type": "markdown",
   "metadata": {},
   "source": [
    "could add visualisation of the workflows and the original workflows. "
   ]
  },
  {
   "cell_type": "code",
   "execution_count": 52,
   "metadata": {},
   "outputs": [],
   "source": [
    "# static for testing \n",
    "workflow_pairs = [('29400476', '14976030'), ('29400476', '14632076'), ('14632076', '14976030')]\n",
    "workflow_tools = list(np.unique([element for tuple in workflow_pairs for element in tuple]))\n"
   ]
  },
  {
   "cell_type": "markdown",
   "metadata": {},
   "source": [
    "### Calculate metric"
   ]
  },
  {
   "cell_type": "markdown",
   "metadata": {},
   "source": [
    "<div class=\"alert alert-block alert-warning\">\n",
    "<b>OBS:</b> This is a simple placeholder implementation of a metric\n",
    "</div>"
   ]
  },
  {
   "cell_type": "code",
   "execution_count": 13,
   "metadata": {},
   "outputs": [],
   "source": [
    "def comet(graph, workflows): # cocitation metric \n",
    "\n",
    "    \"\"\"\n",
    "    Calculates the cocitation  metric for a given workflow and a given cocitation graph\n",
    "    \n",
    "    Parameters\n",
    "    ----------\n",
    "    graph : igraph.Graph\n",
    "        Graph generated by igraph\n",
    "    workflow, list of tuples with pairs of strings TODO: how do I write this? does it matter I wont have this format later anyways? \n",
    "        List of tuples of strings corresponding to the edges in the workflow. \n",
    "\n",
    "    \"\"\"\n",
    "    # List to  collect pairwise scores\n",
    "    score_list = [] # TODO: can predefine the list length, does not matter this is temporary?\n",
    "\n",
    "    for pair in workflows:\n",
    "        cocite_score = 0\n",
    "        neighbors_of_first = set(graph.neighbors(pair[0]))\n",
    "        neighbors_of_second = set(graph.neighbors(pair[1]))\n",
    "\n",
    "        # Count number of common neighbours\n",
    "        common_neighbors = neighbors_of_first.intersection(neighbors_of_second)\n",
    "        cocite_score = len(common_neighbors)\n",
    "        score_list.append(cocite_score)\n",
    "\n",
    "    # Then sum the scores or perform any other desired calculation\n",
    "    # now normalising by WF length\n",
    "    # maybe call this one \"support\", since that is basically what we have. \n",
    "\n",
    "    return sum(score_list)/len(score_list), score_list\n"
   ]
  },
  {
   "cell_type": "code",
   "execution_count": 46,
   "metadata": {},
   "outputs": [
    {
     "name": "stdout",
     "output_type": "stream",
     "text": [
      "[4, 5, 47]\n",
      "Total cocitation score for workflow [('29400476', '14976030'), ('29400476', '14632076'), ('14632076', '14976030')] is 18.666666666666668.\n"
     ]
    }
   ],
   "source": [
    "metric_score, raw_results = comet(G, workflow_pairs)\n",
    "\n",
    "print(raw_results)\n",
    "\n",
    "print(f\"Total cocitation score for workflow {workflow_pairs} is {metric_score}.\")\n"
   ]
  },
  {
   "cell_type": "markdown",
   "metadata": {},
   "source": [
    "### Evaluate results "
   ]
  },
  {
   "cell_type": "markdown",
   "metadata": {},
   "source": [
    "Below I am comparing the workflows from workflomics, to completely randomly drawn tools from the bioinformatics topic "
   ]
  },
  {
   "cell_type": "code",
   "execution_count": 108,
   "metadata": {},
   "outputs": [],
   "source": [
    "workflomics_tools = {\"Comet\":\"23148064\" , \"PeptideProphet\":\"12403597\" ,\"ProteinProphet\":\"14632076\" ,\"StPeter\":\"29400476\" ,\"mzRecal\":\"33538780\" ,\n",
    "                     \"idconvert\":\"23051804\" ,\"msconvert\":\"23051804\" ,\"GOEnrichment\":None ,\"gProfiler\":'27098042' ,\"ms_amanda\":'24909410' ,\n",
    "                       \"msfragger\":'28394336' , \"protXml2IdList\":None }\n",
    "# some of them do not have "
   ]
  },
  {
   "cell_type": "code",
   "execution_count": null,
   "metadata": {},
   "outputs": [],
   "source": [
    "workflows = []\n",
    "rand_workflows = []\n",
    "\n",
    "for i in range(1, 13):\n",
    "    cwl_file = f\"../workflows/candidate_workflow_{i}.cwl\"\n",
    "    try:\n",
    "        workflow_pairs, workflow_tools = parse_workflows(cwl_file) # TODO: more than one at a time \n",
    "        workflows.append(workflow_pairs)\n",
    "\n",
    "        rand_workflow_pairs, rand_workflow_tools = radnomise_workflow(num_pairs = len(workflow_tools)) # making sure they all have the same amount of tools \n",
    "        rand_workflows.append(rand_workflow_pairs)\n",
    "    except:\n",
    "        continue \n",
    "\n",
    "\n",
    "print(workflows, rand_workflows) # wooh thats ineffeicient "
   ]
  },
  {
   "cell_type": "code",
   "execution_count": 109,
   "metadata": {},
   "outputs": [
    {
     "name": "stdout",
     "output_type": "stream",
     "text": [
      "[0.0, 0.0, 0.0, 0.3333333333333333, 0.0, 0.0, 0.0, 0.0, 0.0, 1.25] [18.666666666666668, 27.0, 290.5, 324.5, 18.666666666666668, 164.5, 16.4, 27.0, 58.5, 162.75]\n"
     ]
    }
   ],
   "source": [
    "scores=[]\n",
    "rand_scores =[]\n",
    "\n",
    "for i in range(len(workflows)):\n",
    "    metric_score, raw_results = comet(G, workflows[i])\n",
    "    rand_metric_score, rand_raw_results = comet(G, rand_workflows[i])\n",
    "\n",
    "    scores.append(metric_score)\n",
    "    rand_scores.append(rand_metric_score)\n",
    "    \n",
    "print(rand_scores, scores)"
   ]
  },
  {
   "cell_type": "code",
   "execution_count": 99,
   "metadata": {},
   "outputs": [
    {
     "data": {
      "image/png": "[encoded data removed]",
      "text/plain": [
       "<Figure size 640x480 with 1 Axes>"
      ]
     },
     "metadata": {},
     "output_type": "display_data"
    }
   ],
   "source": [
    "\n",
    "plt.scatter(scores, scores, color='blue', label='Non-random')\n",
    "plt.scatter(rand_scores, rand_scores, color='red', label='Random')\n",
    "\n",
    "plt.xlabel('Metric Score')\n",
    "plt.ylabel('Metric Score')\n",
    "plt.show()\n"
   ]
  },
  {
   "cell_type": "code",
   "execution_count": 125,
   "metadata": {},
   "outputs": [
    {
     "data": {
      "image/png": "[encoded data removed]",
      "text/plain": [
       "<Figure size 640x480 with 1 Axes>"
      ]
     },
     "metadata": {},
     "output_type": "display_data"
    }
   ],
   "source": [
    "\n",
    "fig, ax = plt.subplots()\n",
    "\n",
    "ax.hist(scores, bins=20, color='blue', alpha=0.5, label='Non-random')\n",
    "\n",
    "ax.hist(rand_scores, bins=20, color='red', alpha=0.5, label='Random')\n",
    "\n",
    "ax.set_xlabel('Metric Score')\n",
    "ax.set_ylabel('Frequency')\n",
    "ax.legend()\n",
    "\n",
    "ax.set_xscale('log') # because otherwise not showing up in same plot for some reason\n",
    "\n",
    "# Show plot\n",
    "plt.show()\n"
   ]
  },
  {
   "cell_type": "markdown",
   "metadata": {},
   "source": [
    "## Visualisation\n"
   ]
  },
  {
   "cell_type": "markdown",
   "metadata": {},
   "source": [
    "Using cytoscape to visualise the network (Alma add colouring of the workflow too)"
   ]
  },
  {
   "cell_type": "code",
   "execution_count": 53,
   "metadata": {},
   "outputs": [
    {
     "name": "stdout",
     "output_type": "stream",
     "text": [
      "Applying default style...\n",
      "Applying preferred layout\n",
      "Styling graph\n",
      "style_name not specified, so updating \"default\" style.\n",
      "style_name not specified, so updating \"default\" style.\n",
      "style_name not specified, so updating \"default\" style.\n",
      "style_name not specified, so updating \"default\" style.\n",
      "style_name not specified, so updating \"default\" style.\n",
      "style_name not specified, so updating \"default\" style.\n",
      "style_name not specified, so updating \"default\" style.\n"
     ]
    },
    {
     "data": {
      "text/plain": [
       "''"
      ]
     },
     "execution_count": 53,
     "metadata": {},
     "output_type": "execute_result"
    }
   ],
   "source": [
    "\n",
    "import time # TODO: i switched to datetime, fix this later \n",
    "t = time.localtime()\n",
    "current_time = time.strftime(\"%Y_%m_%d_%H_%M\", t)\n",
    "\n",
    "\n",
    "p4c.create_network_from_igraph(G, f\"Cocitations_Size{len(included_tools)}_{current_time}\")\n",
    "\n",
    "\n",
    "print(\"Styling graph\")\n",
    "p4c.set_node_shape_default(\"ELLIPSE\")\n",
    "p4c.set_node_width_default(30)\n",
    "p4c.set_node_height_default(30)\n",
    "p4c.set_node_border_color_default(\"#000000\")  # Black color in hexadecimal\n",
    "p4c.set_node_border_width_default(1)\n",
    "p4c.set_node_color_bypass(included_tools, \"#FF0000\")  # Red color in hexadecimal\n",
    "p4c.set_node_size_bypass(included_tools, 100)  # remember it cannot be a np.array, just a list argh \n",
    "\n",
    "# colour the tools in the workflow \n",
    "p4c.set_node_color_bypass(workflow_tools, \"#2F739A\")  # they should be gradually coloured later maybe, sequentially\n",
    "p4c.set_node_size_bypass(workflow_tools, 200)  # remember it cannot be a np.array, just a list argh \n"
   ]
  },
  {
   "cell_type": "code",
   "execution_count": 51,
   "metadata": {},
   "outputs": [
    {
     "data": {
      "text/plain": [
       "''"
      ]
     },
     "execution_count": 51,
     "metadata": {},
     "output_type": "execute_result"
    }
   ],
   "source": [
    "\n"
   ]
  },
  {
   "cell_type": "code",
   "execution_count": null,
   "metadata": {},
   "outputs": [],
   "source": []
  }
 ],
 "metadata": {
  "kernelspec": {
   "display_name": "workflomics",
   "language": "python",
   "name": "python3"
  },
  "language_info": {
   "codemirror_mode": {
    "name": "ipython",
    "version": 3
   },
   "file_extension": ".py",
   "mimetype": "text/x-python",
   "name": "python",
   "nbconvert_exporter": "python",
   "pygments_lexer": "ipython3",
   "version": "3.12.2"
  }
 },
 "nbformat": 4,
 "nbformat_minor": 2
}
