{
 "cells": [
  {
   "cell_type": "markdown",
   "metadata": {},
   "source": [
    "# Notebook demonstrating the use of the pubmetric package"
   ]
  },
  {
   "cell_type": "markdown",
   "metadata": {},
   "source": [
    "## Imports and installation"
   ]
  },
  {
   "cell_type": "markdown",
   "metadata": {},
   "source": [
    "You can install the packages needed using the following command `pip install -r setup.py`."
   ]
  },
  {
   "cell_type": "code",
   "execution_count": 1,
   "metadata": {
    "metadata": {}
   },
   "outputs": [],
   "source": [
    "import os\n",
    "import numpy as np\n",
    "import matplotlib.pyplot as plt\n",
    "import sys\n",
    "from datetime import datetime\n",
    "import igraph              \n",
    "import py4cytoscape as p4c # note that Cytoscape has to be installed and open on your machine for visualisation to work\n",
    "sys.path.insert(0, os.path.abspath(os.path.join(os.getcwd(), 'src')))\n",
    "\n",
    "import matplotlib.image as mpimg\n",
    "\n",
    "import asyncio\n",
    "import nest_asyncio\n",
    "nest_asyncio.apply() # Necessary for asyncio notebook compatibility\n",
    "\n",
    "from wfqc.network import create_citation_network \n",
    "from wfqc.workflow import *\n",
    "from wfqc.metrics import *"
   ]
  },
  {
   "cell_type": "markdown",
   "metadata": {},
   "source": [
    "## Graph generation"
   ]
  },
  {
   "cell_type": "markdown",
   "metadata": {},
   "source": [
    "For FastAPI compatibility the main function of the PubMetric package (create_citation_network) needs to be executed within asyncio.run()."
   ]
  },
  {
   "cell_type": "markdown",
   "metadata": {},
   "source": [
    "### Load data"
   ]
  },
  {
   "cell_type": "code",
   "execution_count": 2,
   "metadata": {
    "metadata": {}
   },
   "outputs": [
    {
     "name": "stdout",
     "output_type": "stream",
     "text": [
      "Graph loaded from out_202407041439\n",
      "Graph creation complete\n"
     ]
    }
   ],
   "source": [
    "path_to_data = 'out_202407041439' \n",
    "\n",
    "loaded_graph = asyncio.run(create_citation_network(inpath=path_to_data, load_graph=True)) # TODO: if no data then make data or ask if make data?\n"
   ]
  },
  {
   "cell_type": "markdown",
   "metadata": {},
   "source": [
    "### Generate new graph\n"
   ]
  },
  {
   "cell_type": "markdown",
   "metadata": {},
   "source": [
    "#### Test size"
   ]
  },
  {
   "cell_type": "markdown",
   "metadata": {},
   "source": [
    "For example with a smaller testsize "
   ]
  },
  {
   "cell_type": "code",
   "execution_count": 3,
   "metadata": {},
   "outputs": [
    {
     "name": "stdout",
     "output_type": "stream",
     "text": [
      "\n",
      "Downloading tool metadata from bio.tools\n",
      "Creating a new doi-pmid library\n"
     ]
    },
    {
     "name": "stderr",
     "output_type": "stream",
     "text": [
      "Downloading pmids from dois.: 100%|██████████| 2/2 [00:01<00:00,  1.76it/s]\n"
     ]
    },
    {
     "name": "stdout",
     "output_type": "stream",
     "text": [
      "Writing new doi, pmid pairs to file doi_pmid_library.json\n",
      "Found 2 more tools with pmid using their doi's\n"
     ]
    },
    {
     "name": "stderr",
     "output_type": "stream",
     "text": [
      "Downloading publication dates: 100%|██████████| 20/20 [00:00<00:00, 23.84it/s]\n"
     ]
    },
    {
     "name": "stdout",
     "output_type": "stream",
     "text": [
      "Nr of tools in bio.tools without a publication date: 2\n",
      "Found 20 out of a total of 1874 tools with PMIDS.\n"
     ]
    },
    {
     "name": "stderr",
     "output_type": "stream",
     "text": [
      "Downloading citations from PMIDs: 100%|██████████| 20/20 [00:05<00:00,  3.57it/s]"
     ]
    },
    {
     "name": "stdout",
     "output_type": "stream",
     "text": [
      "Creating citation graph using igraph.\n",
      "3290 unique out of 3290 edges total!\n",
      "Removed 0 self loops and multiples of edges.\n",
      "Removed 3279 disconnected tools and citations (with degree less or equal to 1) in the 'bipartite' graph.\n",
      "Number citation of vertices removed with degree threshold 20: 0\n",
      "Number of remaining tools/vertices is 4, and number of remaining edges are 3\n",
      "Adding graph attributes.\n",
      "Saving data to directory outs/out_20240801212546.\n",
      "Graph creation complete\n",
      "['37328457', '28394336', '26653327', '36939687']\n"
     ]
    },
    {
     "name": "stderr",
     "output_type": "stream",
     "text": [
      "\n"
     ]
    }
   ],
   "source": [
    "testsize_graph = asyncio.run(create_citation_network(test_size=20))\n",
    "print(testsize_graph.vs['name'])"
   ]
  },
  {
   "cell_type": "code",
   "execution_count": 7,
   "metadata": {},
   "outputs": [
    {
     "name": "stdout",
     "output_type": "stream",
     "text": [
      "['name', 'pmid', 'tool_name', 'age', 'nr_citations']\n",
      "[1, 7, 8, 1]\n"
     ]
    }
   ],
   "source": [
    "print(testsize_graph.vs.attributes())\n",
    "print(testsize_graph.vs['tool_name'])"
   ]
  },
  {
   "cell_type": "markdown",
   "metadata": {},
   "source": [
    "#### Full network"
   ]
  },
  {
   "cell_type": "markdown",
   "metadata": {},
   "source": [
    "Or the entire bio.tools database proteomics topic (default), or another specified topic:"
   ]
  },
  {
   "cell_type": "code",
   "execution_count": 6,
   "metadata": {},
   "outputs": [
    {
     "name": "stdout",
     "output_type": "stream",
     "text": [
      "Downloading tool metadata from bio.tools\n"
     ]
    },
    {
     "name": "stderr",
     "output_type": "stream",
     "text": [
      "Downloading pmids from dois.: 100%|██████████| 499/499 [00:27<00:00, 17.95it/s] \n"
     ]
    },
    {
     "name": "stdout",
     "output_type": "stream",
     "text": [
      "Found 457 more tools with pmid using their doi's\n"
     ]
    },
    {
     "name": "stderr",
     "output_type": "stream",
     "text": [
      "Downloading publication dates: 100%|██████████| 1832/1832 [01:59<00:00, 15.33it/s] \n"
     ]
    },
    {
     "name": "stdout",
     "output_type": "stream",
     "text": [
      "Nr of tools in bio.tools without a publication date: 320\n",
      "Found 1832 out of a total of 1874 tools with PMIDS.\n"
     ]
    },
    {
     "name": "stderr",
     "output_type": "stream",
     "text": [
      "Downloading citations from PMIDs: 100%|██████████| 1444/1444 [07:19<00:00,  3.28it/s] \n"
     ]
    },
    {
     "name": "stdout",
     "output_type": "stream",
     "text": [
      "Creating citation graph using igraph.\n",
      "131421 unique out of 131421 edges total!\n",
      "Removed 0 self loops and multiples of edges.\n",
      "Removed 83035 disconnected tools and citations (with degree less or equal to 1) in the 'bipartite' graph.\n",
      "Number of vertices removed with degree threshold 20: 15\n",
      "Number of remaining tools/vertices is 1229, and number of remaining edges are 31785\n",
      "Saving data to directory outs/out_20240731175057.\n"
     ]
    }
   ],
   "source": [
    "graph = asyncio.run(create_citation_network(topic_id=\"topic_0121\")) # this is the default value for topic id, Im writing it for clearity"
   ]
  },
  {
   "cell_type": "markdown",
   "metadata": {},
   "source": [
    "Lets check what attributes the co-citation graph has, and that the it was correctly generated"
   ]
  },
  {
   "cell_type": "code",
   "execution_count": null,
   "metadata": {},
   "outputs": [
    {
     "name": "stdout",
     "output_type": "stream",
     "text": [
      "Graph-level attributes: ['name']\n",
      "Edge-level attributes: ['weight']\n",
      "Max edge weight is 1986, min edge weight is 1\n"
     ]
    }
   ],
   "source": [
    "graph_attributes = graph.vs.attributes()\n",
    "print(\"Graph-level attributes:\", graph_attributes)\n",
    "\n",
    "edge_attributes = graph.es.attributes()\n",
    "print(\"Edge-level attributes:\", edge_attributes)\n",
    "print(f\"Max edge weight is {max(list(G.es['weight']))}, min edge weight is {min(G.es['weight'])}\")"
   ]
  },
  {
   "cell_type": "code",
   "execution_count": null,
   "metadata": {},
   "outputs": [],
   "source": [
    "degrees = [vs.degree() for vs in graph.vs]\n",
    "weigths_edges = graph.es['weight']"
   ]
  },
  {
   "cell_type": "code",
   "execution_count": null,
   "metadata": {},
   "outputs": [
    {
     "data": {
      "image/png": "[encoded data removed]",
      "text/plain": [
       "<Figure size 640x480 with 1 Axes>"
      ]
     },
     "metadata": {},
     "output_type": "display_data"
    },
    {
     "data": {
      "image/png": "[encoded data removed]",
      "text/plain": [
       "<Figure size 640x480 with 1 Axes>"
      ]
     },
     "metadata": {},
     "output_type": "display_data"
    }
   ],
   "source": [
    "plt.hist(degrees, bins=500\n",
    "         )\n",
    "plt.show()\n",
    "plt.hist(weigths_edges, bins=500\n",
    "         )\n",
    "plt.yscale('log')\n",
    "plt.show()"
   ]
  },
  {
   "cell_type": "code",
   "execution_count": null,
   "metadata": {},
   "outputs": [
    {
     "name": "stdout",
     "output_type": "stream",
     "text": [
      "median weight: 1.0\n",
      "mean weight: 4.582077307589575\n"
     ]
    }
   ],
   "source": [
    "print(\"median weight:\",  np.median(list(graph.es['weight'])))\n",
    "print(\"mean weight:\",np.mean(list(graph.es['weight'])))"
   ]
  },
  {
   "cell_type": "markdown",
   "metadata": {},
   "source": [
    "## The metric"
   ]
  },
  {
   "cell_type": "markdown",
   "metadata": {},
   "source": [
    "### Download workflow data\n"
   ]
  },
  {
   "cell_type": "markdown",
   "metadata": {},
   "source": [
    "Load the latest bio.tools metadata file and test that loading one workflow works"
   ]
  },
  {
   "cell_type": "code",
   "execution_count": 4,
   "metadata": {},
   "outputs": [],
   "source": [
    "cwl_file_path = \"./workflows/workflomics/candidate_workflow_23.cwl\" # loading one of the APE generated workflows \n",
    "metadate_file_path = 'out_202407041439/tool_metadata.json'\n",
    "workflow = parse_cwl_workflows(cwl_file_path, metadate_file_path)"
   ]
  },
  {
   "cell_type": "markdown",
   "metadata": {},
   "source": [
    "Displaying the workflow which will be in the (TODO: reference workflow schema) workflow schema. Note that json format changes the tuples to lists, but in the original variable workflow \"edges\" is still a list of tuples"
   ]
  },
  {
   "cell_type": "code",
   "execution_count": 8,
   "metadata": {},
   "outputs": [
    {
     "name": "stdout",
     "output_type": "stream",
     "text": [
      "{\n",
      "    \"edges\": [\n",
      "        [\n",
      "            \"XTandem_01\",\n",
      "            \"ProteinProphet_02\"\n",
      "        ],\n",
      "        [\n",
      "            \"ProteinProphet_02\",\n",
      "            \"StPeter_04\"\n",
      "        ],\n",
      "        [\n",
      "            \"XTandem_03\",\n",
      "            \"StPeter_04\"\n",
      "        ]\n",
      "    ],\n",
      "    \"steps\": {\n",
      "        \"ProteinProphet_02\": \"14632076\",\n",
      "        \"StPeter_04\": \"29400476\",\n",
      "        \"XTandem_01\": \"14976030\",\n",
      "        \"XTandem_03\": \"14976030\"\n",
      "    },\n",
      "    \"pmid_edges\": [\n",
      "        [\n",
      "            \"14976030\",\n",
      "            \"14632076\"\n",
      "        ],\n",
      "        [\n",
      "            \"14632076\",\n",
      "            \"29400476\"\n",
      "        ],\n",
      "        [\n",
      "            \"14976030\",\n",
      "            \"29400476\"\n",
      "        ]\n",
      "    ]\n",
      "}\n"
     ]
    }
   ],
   "source": [
    "print(json.dumps(workflow, indent=4)) # "
   ]
  },
  {
   "cell_type": "code",
   "execution_count": 9,
   "metadata": {},
   "outputs": [],
   "source": [
    "random_workflow = generate_random_workflow(loaded_graph.vs['name'], workflow['pmid_edges'], random_seed = 42) #TODO change to take into account the repitition of tools - new wf format "
   ]
  },
  {
   "cell_type": "code",
   "execution_count": 10,
   "metadata": {},
   "outputs": [
    {
     "name": "stdout",
     "output_type": "stream",
     "text": [
      "[\n",
      "    [\n",
      "        \"38384861\",\n",
      "        \"32897718\"\n",
      "    ],\n",
      "    [\n",
      "        \"32897718\",\n",
      "        \"28783153\"\n",
      "    ],\n",
      "    [\n",
      "        \"38384861\",\n",
      "        \"28783153\"\n",
      "    ]\n",
      "]\n"
     ]
    }
   ],
   "source": [
    "print(json.dumps(random_workflow, indent=4)) "
   ]
  },
  {
   "cell_type": "code",
   "execution_count": 15,
   "metadata": {},
   "outputs": [
    {
     "data": {
      "image/png": "[encoded data removed]",
      "text/plain": [
       "<Figure size 1200x600 with 2 Axes>"
      ]
     },
     "metadata": {},
     "output_type": "display_data"
    }
   ],
   "source": [
    "workflow_graph = igraph.Graph.TupleList(edges= workflow['edges'], directed=True)\n",
    "random_workflow_graph = igraph.Graph.TupleList(edges=random_workflow, directed=True)\n",
    "\n",
    "fig, (ax1, ax2) = plt.subplots(1, 2, figsize=(12, 6))\n",
    "igraph.plot(workflow_graph, target=ax1, layout=g1.layout(\"kk\"), vertex_label=g1.vs[\"name\"], \n",
    "        vertex_color='lightblue', edge_color='gray', vertex_size=30, bbox=(300, 300))\n",
    "igraph.plot(random_workflow_graph, target=ax2, layout=g2.layout(\"kk\"), vertex_label=g2.vs[\"name\"], \n",
    "        vertex_color='lightgreen', edge_color='gray', vertex_size=30, bbox=(300, 300))\n",
    "plt.show()\n"
   ]
  },
  {
   "cell_type": "markdown",
   "metadata": {},
   "source": [
    "We can also show the importance of maintaining the hierchy of the workflow, especially in the case of tool repetitions, to be sure we preserve the context for each tool within the workflow. To do this we plot the workflow where repetitions are not taken into account as well as the workflow where they are."
   ]
  },
  {
   "cell_type": "code",
   "execution_count": 16,
   "metadata": {},
   "outputs": [
    {
     "data": {
      "image/png": "[encoded data removed]",
      "text/plain": [
       "<Figure size 1200x600 with 2 Axes>"
      ]
     },
     "metadata": {},
     "output_type": "display_data"
    }
   ],
   "source": [
    "\n",
    "no_repetition_workflow_graph = igraph.Graph.TupleList(edges=workflow['pmid_edges'], directed=True)\n",
    "\n",
    "fig, (ax1, ax2) = plt.subplots(1, 2, figsize=(12, 6))\n",
    "igraph.plot(workflow_graph, target=ax1, layout=g1.layout(\"kk\"), vertex_label=g1.vs[\"name\"], \n",
    "        vertex_color='lightblue', edge_color='gray', vertex_size=30, bbox=(300, 300))\n",
    "\n",
    "igraph.plot(no_repetition_workflow_graph, target=ax2, layout=g2.layout(\"kk\"), vertex_label=g2.vs[\"name\"], \n",
    "        vertex_color='lightgreen', edge_color='gray', vertex_size=30, bbox=(300, 300))\n",
    "plt.show()\n"
   ]
  },
  {
   "cell_type": "markdown",
   "metadata": {},
   "source": [
    "### Calculate metric"
   ]
  },
  {
   "cell_type": "markdown",
   "metadata": {},
   "source": [
    "Test that calculating a tool level metric for one workflow works"
   ]
  },
  {
   "cell_type": "code",
   "execution_count": 17,
   "metadata": {},
   "outputs": [
    {
     "name": "stdout",
     "output_type": "stream",
     "text": [
      "The score for the Workflomics generated workflow is 94.667\n",
      "The score for the randomly generated workflow with the same structure is 0.0\n"
     ]
    }
   ],
   "source": [
    "# For the metric based on the average fo the edges within the workflow we dont need to take into account the structure, so we just give the metric the pmid edges\n",
    "metric_score = workflow_average_sum(loaded_graph, workflow['pmid_edges'])\n",
    "random_metric_score = workflow_average_sum(loaded_graph, random_workflow)\n",
    "print(f\"The score for the Workflomics generated workflow is {metric_score}\")\n",
    "print(f\"The score for the randomly generated workflow with the same structure is {random_metric_score}\")\n"
   ]
  },
  {
   "cell_type": "markdown",
   "metadata": {},
   "source": [
    "## Visualisation\n"
   ]
  },
  {
   "cell_type": "markdown",
   "metadata": {},
   "source": [
    "Using cytoscape to visualise the network, but as we have seen the vast majority are low degree vertices lets first remove the low degree vertices to make it less computationally heavy "
   ]
  },
  {
   "cell_type": "code",
   "execution_count": 23,
   "metadata": {},
   "outputs": [
    {
     "name": "stdout",
     "output_type": "stream",
     "text": [
      "Original graph had 1219 vertices and 52414 edges, the smaller graph has 747 vertices and 49447 edges.\n",
      "Percentage decrease in vertices: 38.72%\n",
      "Percentage decrease in edges: 5.66%\n"
     ]
    }
   ],
   "source": [
    "vertices_to_remove = [v.index for v in loaded_graph.vs if v.degree() < 20]\n",
    "loaded_graph_small = loaded_graph.copy()\n",
    "loaded_graph_small.delete_vertices(vertices_to_remove)\n",
    "\n",
    "original_vertices = len(loaded_graph.vs)\n",
    "original_edges = len(loaded_graph.es)\n",
    "new_vertices = len(loaded_graph_small.vs)\n",
    "new_edges = len(loaded_graph_small.es)\n",
    "\n",
    "vertex_decrease_percentage = ((original_vertices - new_vertices) / original_vertices) * 100\n",
    "edge_decrease_percentage = ((original_edges - new_edges) / original_edges) * 100\n",
    "\n",
    "print(f\"Original graph had {original_vertices} vertices and {original_edges} edges, \"\n",
    "      f\"the smaller graph has {new_vertices} vertices and {new_edges} edges.\")\n",
    "print(f\"Percentage decrease in vertices: {vertex_decrease_percentage:.2f}%\")\n",
    "print(f\"Percentage decrease in edges: {edge_decrease_percentage:.2f}%\")"
   ]
  },
  {
   "cell_type": "code",
   "execution_count": 24,
   "metadata": {},
   "outputs": [
    {
     "name": "stdout",
     "output_type": "stream",
     "text": [
      "Applying default style...\n",
      "Applying preferred layout\n"
     ]
    },
    {
     "data": {
      "text/plain": [
       "128"
      ]
     },
     "execution_count": 24,
     "metadata": {},
     "output_type": "execute_result"
    }
   ],
   "source": [
    "current_time = datetime.now().strftime(\"%Y%m%d%H%M\")\n",
    "\n",
    "p4c.create_network_from_igraph(loaded_graph_small, f\"Cocitations_{current_time}\", collection=\"Citation networks\")\n"
   ]
  },
  {
   "cell_type": "markdown",
   "metadata": {},
   "source": [
    "Lets visualise the two workflows in the graph"
   ]
  },
  {
   "cell_type": "code",
   "execution_count": 25,
   "metadata": {},
   "outputs": [
    {
     "name": "stdout",
     "output_type": "stream",
     "text": [
      "Styling graph\n",
      "style_name not specified, so updating \"default\" style.\n",
      "style_name not specified, so updating \"default\" style.\n",
      "style_name not specified, so updating \"default\" style.\n",
      "style_name not specified, so updating \"default\" style.\n",
      "style_name not specified, so updating \"default\" style.\n",
      "style_name not specified, so updating \"default\" style.\n",
      "style_name not specified, so updating \"default\" style.\n"
     ]
    },
    {
     "data": {
      "text/plain": [
       "''"
      ]
     },
     "execution_count": 25,
     "metadata": {},
     "output_type": "execute_result"
    }
   ],
   "source": [
    "print(\"Styling graph\")\n",
    "p4c.set_node_shape_default(\"ELLIPSE\")\n",
    "p4c.set_node_width_default(30)\n",
    "p4c.set_node_height_default(30)\n",
    "p4c.set_node_border_color_default(\"#000000\")  # Black color in hexadecimal\n",
    "p4c.set_node_border_width_default(1)\n"
   ]
  },
  {
   "cell_type": "code",
   "execution_count": 28,
   "metadata": {},
   "outputs": [],
   "source": [
    "# # Styling edges this is too intense\n",
    "# p4c.set_edge_label_mapping('weight')\n",
    "# p4c.set_edge_line_width_mapping(**p4c.gen_edge_width_map('weight', mapping_type='c'))"
   ]
  },
  {
   "cell_type": "markdown",
   "metadata": {},
   "source": [
    "Showing an image of the graph if you dont have cytoscape"
   ]
  },
  {
   "cell_type": "code",
   "execution_count": null,
   "metadata": {},
   "outputs": [],
   "source": [
    "img = mpimg.imread('...image.png') #TODO: add\n",
    "plt.imshow(img)\n",
    "plt.axis('off')  \n",
    "plt.show()\n"
   ]
  }
 ],
 "metadata": {
  "kernelspec": {
   "display_name": "workflomics",
   "language": "python",
   "name": "python3"
  },
  "language_info": {
   "codemirror_mode": {
    "name": "ipython",
    "version": 3
   },
   "file_extension": ".py",
   "mimetype": "text/x-python",
   "name": "python",
   "nbconvert_exporter": "python",
   "pygments_lexer": "ipython3",
   "version": "3.9.19"
  }
 },
 "nbformat": 4,
 "nbformat_minor": 2
}
