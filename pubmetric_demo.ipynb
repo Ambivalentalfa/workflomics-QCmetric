{
 "cells": [
  {
   "cell_type": "markdown",
   "metadata": {},
   "source": [
    "# Notebook demonstrating the use of the pubmetric package"
   ]
  },
  {
   "cell_type": "markdown",
   "metadata": {},
   "source": [
    "## Imports and installation"
   ]
  },
  {
   "cell_type": "markdown",
   "metadata": {},
   "source": [
    "You can install the packages needed using the following command `pip install -r setup.py`."
   ]
  },
  {
   "cell_type": "code",
   "execution_count": 1,
   "metadata": {
    "metadata": {}
   },
   "outputs": [],
   "source": [
    "import os\n",
    "import numpy as np\n",
    "import matplotlib.pyplot as plt\n",
    "import sys\n",
    "from datetime import datetime\n",
    "import igraph              \n",
    "import py4cytoscape as p4c # note that Cytoscape has to be installed and open on your machine for visualisation to work\n",
    "sys.path.insert(0, os.path.abspath(os.path.join(os.getcwd(), 'src')))\n",
    "\n",
    "import matplotlib.image as mpimg\n",
    "\n",
    "import asyncio\n",
    "import nest_asyncio\n",
    "nest_asyncio.apply() # Necessary for asyncio notebook compatibility\n",
    "\n",
    "from pubmetric.network import create_citation_network \n",
    "from pubmetric.workflow import *\n",
    "from pubmetric.metrics import *"
   ]
  },
  {
   "cell_type": "markdown",
   "metadata": {},
   "source": [
    "## Graph generation"
   ]
  },
  {
   "cell_type": "markdown",
   "metadata": {},
   "source": [
    "For FastAPI compatibility the main function of the PubMetric package (create_citation_network) needs to be executed within asyncio.run()."
   ]
  },
  {
   "cell_type": "markdown",
   "metadata": {},
   "source": [
    "### Load data"
   ]
  },
  {
   "cell_type": "code",
   "execution_count": 2,
   "metadata": {
    "metadata": {}
   },
   "outputs": [
    {
     "name": "stdout",
     "output_type": "stream",
     "text": [
      "2024-08-01 22:28:16 - Graph loaded from out_202407041439\n",
      "2024-08-01 22:28:16 - Graph creation complete.\n"
     ]
    },
    {
     "ename": "UnboundLocalError",
     "evalue": "local variable 'attribute_graph' referenced before assignment",
     "output_type": "error",
     "traceback": [
      "\u001b[0;31m---------------------------------------------------------------------------\u001b[0m",
      "\u001b[0;31mUnboundLocalError\u001b[0m                         Traceback (most recent call last)",
      "Cell \u001b[0;32mIn[2], line 3\u001b[0m\n\u001b[1;32m      1\u001b[0m path_to_data \u001b[38;5;241m=\u001b[39m \u001b[38;5;124m'\u001b[39m\u001b[38;5;124mout_202407041439\u001b[39m\u001b[38;5;124m'\u001b[39m \n\u001b[0;32m----> 3\u001b[0m loaded_graph \u001b[38;5;241m=\u001b[39m \u001b[43masyncio\u001b[49m\u001b[38;5;241;43m.\u001b[39;49m\u001b[43mrun\u001b[49m\u001b[43m(\u001b[49m\u001b[43mcreate_citation_network\u001b[49m\u001b[43m(\u001b[49m\u001b[43minpath\u001b[49m\u001b[38;5;241;43m=\u001b[39;49m\u001b[43mpath_to_data\u001b[49m\u001b[43m,\u001b[49m\u001b[43m \u001b[49m\u001b[43mload_graph\u001b[49m\u001b[38;5;241;43m=\u001b[39;49m\u001b[38;5;28;43;01mTrue\u001b[39;49;00m\u001b[43m)\u001b[49m\u001b[43m)\u001b[49m \u001b[38;5;66;03m# TODO: if no data then make data or ask if make data?\u001b[39;00m\n",
      "File \u001b[0;32m~/miniconda3/envs/WFQC/lib/python3.9/site-packages/nest_asyncio.py:30\u001b[0m, in \u001b[0;36m_patch_asyncio.<locals>.run\u001b[0;34m(main, debug)\u001b[0m\n\u001b[1;32m     28\u001b[0m task \u001b[38;5;241m=\u001b[39m asyncio\u001b[38;5;241m.\u001b[39mensure_future(main)\n\u001b[1;32m     29\u001b[0m \u001b[38;5;28;01mtry\u001b[39;00m:\n\u001b[0;32m---> 30\u001b[0m     \u001b[38;5;28;01mreturn\u001b[39;00m \u001b[43mloop\u001b[49m\u001b[38;5;241;43m.\u001b[39;49m\u001b[43mrun_until_complete\u001b[49m\u001b[43m(\u001b[49m\u001b[43mtask\u001b[49m\u001b[43m)\u001b[49m\n\u001b[1;32m     31\u001b[0m \u001b[38;5;28;01mfinally\u001b[39;00m:\n\u001b[1;32m     32\u001b[0m     \u001b[38;5;28;01mif\u001b[39;00m \u001b[38;5;129;01mnot\u001b[39;00m task\u001b[38;5;241m.\u001b[39mdone():\n",
      "File \u001b[0;32m~/miniconda3/envs/WFQC/lib/python3.9/site-packages/nest_asyncio.py:98\u001b[0m, in \u001b[0;36m_patch_loop.<locals>.run_until_complete\u001b[0;34m(self, future)\u001b[0m\n\u001b[1;32m     95\u001b[0m \u001b[38;5;28;01mif\u001b[39;00m \u001b[38;5;129;01mnot\u001b[39;00m f\u001b[38;5;241m.\u001b[39mdone():\n\u001b[1;32m     96\u001b[0m     \u001b[38;5;28;01mraise\u001b[39;00m \u001b[38;5;167;01mRuntimeError\u001b[39;00m(\n\u001b[1;32m     97\u001b[0m         \u001b[38;5;124m'\u001b[39m\u001b[38;5;124mEvent loop stopped before Future completed.\u001b[39m\u001b[38;5;124m'\u001b[39m)\n\u001b[0;32m---> 98\u001b[0m \u001b[38;5;28;01mreturn\u001b[39;00m \u001b[43mf\u001b[49m\u001b[38;5;241;43m.\u001b[39;49m\u001b[43mresult\u001b[49m\u001b[43m(\u001b[49m\u001b[43m)\u001b[49m\n",
      "File \u001b[0;32m~/miniconda3/envs/WFQC/lib/python3.9/asyncio/futures.py:201\u001b[0m, in \u001b[0;36mFuture.result\u001b[0;34m(self)\u001b[0m\n\u001b[1;32m    199\u001b[0m \u001b[38;5;28mself\u001b[39m\u001b[38;5;241m.\u001b[39m__log_traceback \u001b[38;5;241m=\u001b[39m \u001b[38;5;28;01mFalse\u001b[39;00m\n\u001b[1;32m    200\u001b[0m \u001b[38;5;28;01mif\u001b[39;00m \u001b[38;5;28mself\u001b[39m\u001b[38;5;241m.\u001b[39m_exception \u001b[38;5;129;01mis\u001b[39;00m \u001b[38;5;129;01mnot\u001b[39;00m \u001b[38;5;28;01mNone\u001b[39;00m:\n\u001b[0;32m--> 201\u001b[0m     \u001b[38;5;28;01mraise\u001b[39;00m \u001b[38;5;28mself\u001b[39m\u001b[38;5;241m.\u001b[39m_exception\n\u001b[1;32m    202\u001b[0m \u001b[38;5;28;01mreturn\u001b[39;00m \u001b[38;5;28mself\u001b[39m\u001b[38;5;241m.\u001b[39m_result\n",
      "File \u001b[0;32m~/miniconda3/envs/WFQC/lib/python3.9/asyncio/tasks.py:256\u001b[0m, in \u001b[0;36mTask.__step\u001b[0;34m(***failed resolving arguments***)\u001b[0m\n\u001b[1;32m    252\u001b[0m \u001b[38;5;28;01mtry\u001b[39;00m:\n\u001b[1;32m    253\u001b[0m     \u001b[38;5;28;01mif\u001b[39;00m exc \u001b[38;5;129;01mis\u001b[39;00m \u001b[38;5;28;01mNone\u001b[39;00m:\n\u001b[1;32m    254\u001b[0m         \u001b[38;5;66;03m# We use the `send` method directly, because coroutines\u001b[39;00m\n\u001b[1;32m    255\u001b[0m         \u001b[38;5;66;03m# don't have `__iter__` and `__next__` methods.\u001b[39;00m\n\u001b[0;32m--> 256\u001b[0m         result \u001b[38;5;241m=\u001b[39m \u001b[43mcoro\u001b[49m\u001b[38;5;241;43m.\u001b[39;49m\u001b[43msend\u001b[49m\u001b[43m(\u001b[49m\u001b[38;5;28;43;01mNone\u001b[39;49;00m\u001b[43m)\u001b[49m\n\u001b[1;32m    257\u001b[0m     \u001b[38;5;28;01melse\u001b[39;00m:\n\u001b[1;32m    258\u001b[0m         result \u001b[38;5;241m=\u001b[39m coro\u001b[38;5;241m.\u001b[39mthrow(exc)\n",
      "File \u001b[0;32m~/Documents/UU/Thesis/Git/Finalrepo/workflomics-QCmetric/src/wfqc/network.py:309\u001b[0m, in \u001b[0;36mcreate_citation_network\u001b[0;34m(outpath, test_size, topic_id, random_seed, load_graph, inpath, save_files, doi_lib_directory)\u001b[0m\n\u001b[1;32m    307\u001b[0m \u001b[38;5;66;03m# returns a graph and the pmids of the tools included in the graph (tools connected by cocitations)\u001b[39;00m\n\u001b[1;32m    308\u001b[0m log_with_timestamp(\u001b[38;5;124m\"\u001b[39m\u001b[38;5;124mGraph creation complete.\u001b[39m\u001b[38;5;124m\"\u001b[39m) \u001b[38;5;66;03m# TODO: timestapms for all updates?\u001b[39;00m\n\u001b[0;32m--> 309\u001b[0m \u001b[38;5;28;01mreturn\u001b[39;00m \u001b[43mattribute_graph\u001b[49m\n",
      "\u001b[0;31mUnboundLocalError\u001b[0m: local variable 'attribute_graph' referenced before assignment"
     ]
    }
   ],
   "source": [
    "path_to_data = 'out_202407041439' \n",
    "\n",
    "loaded_graph = asyncio.run(create_citation_network(inpath=path_to_data, load_graph=True)) # TODO: if no data then make data or ask if make data?\n"
   ]
  },
  {
   "cell_type": "markdown",
   "metadata": {},
   "source": [
    "### Generate new graph\n"
   ]
  },
  {
   "cell_type": "markdown",
   "metadata": {},
   "source": [
    "#### Test size"
   ]
  },
  {
   "cell_type": "markdown",
   "metadata": {},
   "source": [
    "For example with a smaller testsize "
   ]
  },
  {
   "cell_type": "code",
   "execution_count": 8,
   "metadata": {},
   "outputs": [
    {
     "name": "stdout",
     "output_type": "stream",
     "text": [
      "2024-08-01 22:48:07 - Downloading tool metadata from bio.tools\n",
      "2024-08-01 22:48:13 - Creating a new doi-pmid library\n"
     ]
    },
    {
     "name": "stderr",
     "output_type": "stream",
     "text": [
      "Downloading pmids from dois.: 100%|██████████| 48/48 [00:25<00:00,  1.85it/s]\n"
     ]
    },
    {
     "name": "stdout",
     "output_type": "stream",
     "text": [
      "2024-08-01 22:48:39 - Writing new doi, pmid pairs to file doi_pmid_library.json\n",
      "2024-08-01 22:48:39 - Found 47 more tools with pmid using their doi's\n"
     ]
    },
    {
     "name": "stderr",
     "output_type": "stream",
     "text": [
      "Downloading publication dates: 100%|██████████| 499/499 [00:26<00:00, 18.55it/s]\n"
     ]
    },
    {
     "name": "stdout",
     "output_type": "stream",
     "text": [
      "2024-08-01 22:49:06 - Nr of tools in bio.tools without a publication date: 81\n",
      "2024-08-01 22:49:06 - Found 499 out of a total of 1874 tools with PMIDS.\n"
     ]
    },
    {
     "name": "stderr",
     "output_type": "stream",
     "text": [
      "Downloading citations from PMIDs: 100%|██████████| 499/499 [02:03<00:00,  4.03it/s]\n"
     ]
    },
    {
     "name": "stdout",
     "output_type": "stream",
     "text": [
      "2024-08-01 22:51:10 - Creating citation graph using igraph.\n",
      "2024-08-01 22:51:10 - 47023 unique out of 47106 edges total.\n",
      "2024-08-01 22:51:10 - Removed 14 self loops and multiples of edges.\n",
      "2024-08-01 22:51:10 - Removed 37623 disconnected tools and citations (with degree less or equal to 1) in the 'bipartite' graph.\n",
      "2024-08-01 22:51:10 - Number citation of vertices removed with degree threshold 20: 0\n",
      "2024-08-01 22:51:12 - Number of remaining tools/vertices is 283, and number of remaining edges are 2481\n",
      "2024-08-01 22:51:12 - Adding graph attributes.\n",
      "2024-08-01 22:51:12 - Saving graph to directory outs/out_20240801224807.\n",
      "2024-08-01 22:51:12 - Graph creation complete.\n",
      "[2, 20, 21, 2, 2, 1, 1, 12, 14, 1, 2, 100, 2, 2, 2, 1, 1, 2, 1, 1, 0, 2, 1, 1, 0, 2, 2, 2, 1, 10, 3, 1, 1, 1, 11, 0, 2, 2, 3, 1, 2, 2, 9, 22, 20, 1, 2, 2, 1, 7, 0, 1, 1, 2, 2, 2, 20, 3, 19, 28, 1, 2, 2, 3, 2, 3, 12, 4, 13, 6, 10, 1, 1, 9, 1, 1, 2, 1, 1, 0, 12, 2, 12, 21, 21, 1, 1, 8, 1, 100, 1, 2, 9, 7, 2, 11, 3, 3, 14, 27, 1, 2, 1, 9, 3, 2, 2, 1, 2, 2, 2, 2, 1, 1, 1, 2, 1, 1, 1, 1, 2, 2, 2, 1, 2, 1, 1, 2, 1, 2, 1, 2, 1, 2, 0, 1, 1, 3, 2, 2, 2, 1, 1, 2, 1, 1, 1, 2, 0, 3, 2, 3, 100, 1, 0, 1, 0, 1, 1, 1, 1, 1, 2, 2, 1, 2, 1, 3, 3, 3, 0, 0, 1, 11, 2, 2, 3, 2, 1, 2, 2, 1, 9, 18, 2, 19, 1, 2, 100, 32, 2, 21, 1, 100, 2, 1, 1, 1, 2, 1, 9, 14, 3, 3, 2, 2, 1, 1, 1, 2, 2, 2, 1, 3, 1, 2, 2, 2, 1, 1, 1, 2, 0, 1, 2, 0, 2, 8, 2, 1, 3, 1, 2, 2, 1, 1, 1, 2, 27, 2, 2, 0, 1, 1, 20, 2, 3, 2, 1, 3, 0, 6, 1, 2, 1, 1, 2, 2, 1, 2, 3, 1, 1, 1, 0, 2, 1, 2, 3, 2, 2, 3, 3, 2, 1, 5, 1, 1, 2, 1, 1, 2, 2]\n"
     ]
    }
   ],
   "source": [
    "testsize_graph = asyncio.run(create_citation_network(test_size=500))\n",
    "print(testsize_graph.vs['age'])"
   ]
  },
  {
   "cell_type": "code",
   "execution_count": 6,
   "metadata": {},
   "outputs": [
    {
     "name": "stdout",
     "output_type": "stream",
     "text": [
      "[1, 7, 3, 1, 32, 21, 11, 28, 8]\n"
     ]
    }
   ],
   "source": []
  },
  {
   "cell_type": "markdown",
   "metadata": {},
   "source": [
    "#### Full network"
   ]
  },
  {
   "cell_type": "markdown",
   "metadata": {},
   "source": [
    "Or the entire bio.tools database proteomics topic (default), or another specified topic:"
   ]
  },
  {
   "cell_type": "code",
   "execution_count": 13,
   "metadata": {},
   "outputs": [
    {
     "name": "stdout",
     "output_type": "stream",
     "text": [
      "2024-08-01 23:11:11 - Downloading tool metadata from bio.tools\n",
      "2024-08-01 23:11:28 - Creating a new doi-pmid library\n"
     ]
    },
    {
     "name": "stderr",
     "output_type": "stream",
     "text": [
      "Downloading pmids from dois.: 100%|██████████| 499/499 [04:34<00:00,  1.82it/s]\n"
     ]
    },
    {
     "name": "stdout",
     "output_type": "stream",
     "text": [
      "2024-08-01 23:16:02 - Writing new doi, pmid pairs to file doi_pmid_library.json\n",
      "2024-08-01 23:16:02 - Found 457 more tools with pmid using their doi's\n"
     ]
    },
    {
     "name": "stderr",
     "output_type": "stream",
     "text": [
      "Downloading publication dates: 100%|██████████| 1832/1832 [01:55<00:00, 15.86it/s] \n"
     ]
    },
    {
     "name": "stdout",
     "output_type": "stream",
     "text": [
      "2024-08-01 23:17:58 - Nr of tools in bio.tools without a publication date: 320\n",
      "2024-08-01 23:17:58 - Found 1832 out of a total of 1874 tools with PMIDS.\n"
     ]
    },
    {
     "name": "stderr",
     "output_type": "stream",
     "text": [
      "Downloading citations from PMIDs: 100%|██████████| 1832/1832 [07:35<00:00,  4.02it/s]\n"
     ]
    },
    {
     "name": "stdout",
     "output_type": "stream",
     "text": [
      "2024-08-01 23:25:33 - Creating citation graph using igraph.\n",
      "2024-08-01 23:25:33 - 131433 unique out of 183033 edges total.\n",
      "2024-08-01 23:25:33 - Removed 24 self loops and multiples of edges.\n",
      "2024-08-01 23:25:35 - Removed 83045 disconnected tools and citations (with degree less or equal to 1) in the 'bipartite' graph.\n",
      "2024-08-01 23:25:35 - Number citation of vertices removed with degree threshold 20: 15\n",
      "2024-08-01 23:26:26 - Number of remaining tools/vertices is 1229, and number of remaining edges are 31785\n",
      "2024-08-01 23:26:26 - Adding graph attributes.\n",
      "2024-08-01 23:26:26 - Saving graph to directory outs/out_20240801231111.\n",
      "2024-08-01 23:26:26 - Graph creation complete.\n"
     ]
    }
   ],
   "source": [
    "full_graph = asyncio.run(create_citation_network(topic_id=\"topic_0121\")) # this is the default value for topic id, Im writing it for clearity"
   ]
  },
  {
   "cell_type": "markdown",
   "metadata": {},
   "source": [
    "Moving on, choose what graph you want to work with and let's check what attributes the co-citation graph has, and that the it was correctly generated"
   ]
  },
  {
   "cell_type": "code",
   "execution_count": 14,
   "metadata": {},
   "outputs": [
    {
     "name": "stdout",
     "output_type": "stream",
     "text": [
      "Graph-level attributes: ['name', 'pmid', 'age', 'nr_citations']\n",
      "Edge-level attributes: ['weight', 'inverted_weight']\n",
      "Max edge weight is 1922, min edge weight is 1\n"
     ]
    }
   ],
   "source": [
    "graph = full_graph \n",
    "print(\"Graph-level attributes:\", graph.vs.attributes())\n",
    "print(\"Edge-level attributes:\", graph.es.attributes())\n",
    "print(f\"Max edge weight is {max(list(graph.es['weight']))}, min edge weight is {min(graph.es['weight'])}\")"
   ]
  },
  {
   "cell_type": "code",
   "execution_count": 15,
   "metadata": {},
   "outputs": [],
   "source": [
    "degrees = [vs.degree() for vs in graph.vs]\n",
    "weigths_edges = graph.es['weight']"
   ]
  },
  {
   "cell_type": "code",
   "execution_count": 16,
   "metadata": {},
   "outputs": [
    {
     "data": {
      "image/png": "[encoded data removed]",
      "text/plain": [
       "<Figure size 640x480 with 1 Axes>"
      ]
     },
     "metadata": {},
     "output_type": "display_data"
    },
    {
     "data": {
      "image/png": "[encoded data removed]",
      "text/plain": [
       "<Figure size 640x480 with 1 Axes>"
      ]
     },
     "metadata": {},
     "output_type": "display_data"
    }
   ],
   "source": [
    "plt.hist(degrees, bins=500\n",
    "         )\n",
    "plt.show()\n",
    "plt.hist(weigths_edges, bins=500\n",
    "         )\n",
    "plt.yscale('log')\n",
    "plt.show()"
   ]
  },
  {
   "cell_type": "code",
   "execution_count": null,
   "metadata": {},
   "outputs": [
    {
     "name": "stdout",
     "output_type": "stream",
     "text": [
      "median weight: 1.0\n",
      "mean weight: 4.582077307589575\n"
     ]
    }
   ],
   "source": [
    "print(\"median weight:\",  np.median(list(graph.es['weight'])))\n",
    "print(\"mean weight:\",np.mean(list(graph.es['weight'])))"
   ]
  },
  {
   "cell_type": "markdown",
   "metadata": {},
   "source": [
    "## The metric"
   ]
  },
  {
   "cell_type": "markdown",
   "metadata": {},
   "source": [
    "### Download workflow data\n"
   ]
  },
  {
   "cell_type": "markdown",
   "metadata": {},
   "source": [
    "Load the latest bio.tools metadata file and test that loading one workflow works"
   ]
  },
  {
   "cell_type": "code",
   "execution_count": 4,
   "metadata": {},
   "outputs": [],
   "source": [
    "cwl_file_path = \"./workflows/workflomics/candidate_workflow_23.cwl\" # loading one of the APE generated workflows \n",
    "metadate_file_path = 'out_202407041439/tool_metadata.json'\n",
    "workflow = parse_cwl_workflows(cwl_file_path, metadate_file_path)"
   ]
  },
  {
   "cell_type": "markdown",
   "metadata": {},
   "source": [
    "Displaying the workflow which will be in the (TODO: reference workflow schema) workflow schema. Note that json format changes the tuples to lists, but in the original variable workflow \"edges\" is still a list of tuples"
   ]
  },
  {
   "cell_type": "code",
   "execution_count": 8,
   "metadata": {},
   "outputs": [
    {
     "name": "stdout",
     "output_type": "stream",
     "text": [
      "{\n",
      "    \"edges\": [\n",
      "        [\n",
      "            \"XTandem_01\",\n",
      "            \"ProteinProphet_02\"\n",
      "        ],\n",
      "        [\n",
      "            \"ProteinProphet_02\",\n",
      "            \"StPeter_04\"\n",
      "        ],\n",
      "        [\n",
      "            \"XTandem_03\",\n",
      "            \"StPeter_04\"\n",
      "        ]\n",
      "    ],\n",
      "    \"steps\": {\n",
      "        \"ProteinProphet_02\": \"14632076\",\n",
      "        \"StPeter_04\": \"29400476\",\n",
      "        \"XTandem_01\": \"14976030\",\n",
      "        \"XTandem_03\": \"14976030\"\n",
      "    },\n",
      "    \"pmid_edges\": [\n",
      "        [\n",
      "            \"14976030\",\n",
      "            \"14632076\"\n",
      "        ],\n",
      "        [\n",
      "            \"14632076\",\n",
      "            \"29400476\"\n",
      "        ],\n",
      "        [\n",
      "            \"14976030\",\n",
      "            \"29400476\"\n",
      "        ]\n",
      "    ]\n",
      "}\n"
     ]
    }
   ],
   "source": [
    "print(json.dumps(workflow, indent=4)) # "
   ]
  },
  {
   "cell_type": "code",
   "execution_count": 9,
   "metadata": {},
   "outputs": [],
   "source": [
    "random_workflow = generate_random_workflow(loaded_graph.vs['pmid'], workflow['pmid_edges'], random_seed = 42) #TODO change to take into account the repitition of tools - new wf format "
   ]
  },
  {
   "cell_type": "code",
   "execution_count": 10,
   "metadata": {},
   "outputs": [
    {
     "name": "stdout",
     "output_type": "stream",
     "text": [
      "[\n",
      "    [\n",
      "        \"38384861\",\n",
      "        \"32897718\"\n",
      "    ],\n",
      "    [\n",
      "        \"32897718\",\n",
      "        \"28783153\"\n",
      "    ],\n",
      "    [\n",
      "        \"38384861\",\n",
      "        \"28783153\"\n",
      "    ]\n",
      "]\n"
     ]
    }
   ],
   "source": [
    "print(json.dumps(random_workflow, indent=4)) "
   ]
  },
  {
   "cell_type": "code",
   "execution_count": 15,
   "metadata": {},
   "outputs": [
    {
     "data": {
      "image/png": "[encoded data removed]",
      "text/plain": [
       "<Figure size 1200x600 with 2 Axes>"
      ]
     },
     "metadata": {},
     "output_type": "display_data"
    }
   ],
   "source": [
    "workflow_graph = igraph.Graph.TupleList(edges= workflow['edges'], directed=True)\n",
    "random_workflow_graph = igraph.Graph.TupleList(edges=random_workflow, directed=True)\n",
    "\n",
    "fig, (ax1, ax2) = plt.subplots(1, 2, figsize=(12, 6))\n",
    "igraph.plot(workflow_graph, target=ax1, layout=workflow_graph.layout(\"kk\"), vertex_label=workflow_graph.vs[\"name\"], \n",
    "        vertex_color='lightblue', edge_color='gray', vertex_size=30, bbox=(300, 300))\n",
    "igraph.plot(random_workflow_graph, target=ax2, layout=random_workflow_graph.layout(\"kk\"), vertex_label=random_workflow_graph.vs[\"name\"], \n",
    "        vertex_color='lightgreen', edge_color='gray', vertex_size=30, bbox=(300, 300))\n",
    "plt.show()\n"
   ]
  },
  {
   "cell_type": "markdown",
   "metadata": {},
   "source": [
    "We can also show the importance of maintaining the hierchy of the workflow, especially in the case of tool repetitions, to be sure we preserve the context for each tool within the workflow. To do this we plot the workflow where repetitions are not taken into account as well as the workflow where they are."
   ]
  },
  {
   "cell_type": "code",
   "execution_count": 16,
   "metadata": {},
   "outputs": [
    {
     "data": {
      "image/png": "[encoded data removed]",
      "text/plain": [
       "<Figure size 1200x600 with 2 Axes>"
      ]
     },
     "metadata": {},
     "output_type": "display_data"
    }
   ],
   "source": [
    "\n",
    "no_repetition_workflow_graph = igraph.Graph.TupleList(edges=workflow['pmid_edges'], directed=True)\n",
    "\n",
    "fig, (ax1, ax2) = plt.subplots(1, 2, figsize=(12, 6))\n",
    "igraph.plot(workflow_graph, target=ax1, layout=workflow_graph.layout(\"kk\"), vertex_label=workflow_graph.vs[\"name\"], \n",
    "        vertex_color='lightblue', edge_color='gray', vertex_size=30, bbox=(300, 300))\n",
    "\n",
    "igraph.plot(no_repetition_workflow_graph, target=ax2, layout=no_repetition_workflow_graph.layout(\"kk\"), vertex_label=no_repetition_workflow_graph.vs[\"name\"], \n",
    "        vertex_color='lightgreen', edge_color='gray', vertex_size=30, bbox=(300, 300))\n",
    "plt.show()\n"
   ]
  },
  {
   "cell_type": "markdown",
   "metadata": {},
   "source": [
    "### Calculate metric"
   ]
  },
  {
   "cell_type": "markdown",
   "metadata": {},
   "source": [
    "Test that calculating a tool level metric for one workflow works"
   ]
  },
  {
   "cell_type": "code",
   "execution_count": 17,
   "metadata": {},
   "outputs": [
    {
     "name": "stdout",
     "output_type": "stream",
     "text": [
      "The score for the Workflomics generated workflow is 94.667\n",
      "The score for the randomly generated workflow with the same structure is 0.0\n"
     ]
    }
   ],
   "source": [
    "# For the metric based on the average fo the edges within the workflow we dont need to take into account the structure, so we just give the metric the pmid edges\n",
    "metric_score = workflow_average_sum(loaded_graph, workflow['pmid_edges'])\n",
    "random_metric_score = workflow_average_sum(loaded_graph, random_workflow)\n",
    "print(f\"The score for the Workflomics generated workflow is {metric_score}\")\n",
    "print(f\"The score for the randomly generated workflow with the same structure is {random_metric_score}\")\n"
   ]
  },
  {
   "cell_type": "markdown",
   "metadata": {},
   "source": [
    "## Visualisation\n"
   ]
  },
  {
   "cell_type": "markdown",
   "metadata": {},
   "source": [
    "Using cytoscape to visualise the network, but as we have seen the vast majority are low degree vertices lets first remove the low degree vertices to make it less computationally heavy "
   ]
  },
  {
   "cell_type": "code",
   "execution_count": 23,
   "metadata": {},
   "outputs": [
    {
     "name": "stdout",
     "output_type": "stream",
     "text": [
      "Original graph had 1219 vertices and 52414 edges, the smaller graph has 747 vertices and 49447 edges.\n",
      "Percentage decrease in vertices: 38.72%\n",
      "Percentage decrease in edges: 5.66%\n"
     ]
    }
   ],
   "source": [
    "vertices_to_remove = [v.index for v in loaded_graph.vs if v.degree() < 20]\n",
    "loaded_graph_small = loaded_graph.copy()\n",
    "loaded_graph_small.delete_vertices(vertices_to_remove)\n",
    "\n",
    "original_vertices = len(loaded_graph.vs)\n",
    "original_edges = len(loaded_graph.es)\n",
    "new_vertices = len(loaded_graph_small.vs)\n",
    "new_edges = len(loaded_graph_small.es)\n",
    "\n",
    "vertex_decrease_percentage = ((original_vertices - new_vertices) / original_vertices) * 100\n",
    "edge_decrease_percentage = ((original_edges - new_edges) / original_edges) * 100\n",
    "\n",
    "print(f\"Original graph had {original_vertices} vertices and {original_edges} edges, \"\n",
    "      f\"the smaller graph has {new_vertices} vertices and {new_edges} edges.\")\n",
    "print(f\"Percentage decrease in vertices: {vertex_decrease_percentage:.2f}%\")\n",
    "print(f\"Percentage decrease in edges: {edge_decrease_percentage:.2f}%\")"
   ]
  },
  {
   "cell_type": "code",
   "execution_count": 24,
   "metadata": {},
   "outputs": [
    {
     "name": "stdout",
     "output_type": "stream",
     "text": [
      "Applying default style...\n",
      "Applying preferred layout\n"
     ]
    },
    {
     "data": {
      "text/plain": [
       "128"
      ]
     },
     "execution_count": 24,
     "metadata": {},
     "output_type": "execute_result"
    }
   ],
   "source": [
    "current_time = datetime.now().strftime(\"%Y%m%d%H%M\")\n",
    "\n",
    "p4c.create_network_from_igraph(loaded_graph_small, f\"Cocitations_{current_time}\", collection=\"Citation networks\")\n"
   ]
  },
  {
   "cell_type": "markdown",
   "metadata": {},
   "source": [
    "Lets visualise the two workflows in the graph"
   ]
  },
  {
   "cell_type": "code",
   "execution_count": 25,
   "metadata": {},
   "outputs": [
    {
     "name": "stdout",
     "output_type": "stream",
     "text": [
      "Styling graph\n",
      "style_name not specified, so updating \"default\" style.\n",
      "style_name not specified, so updating \"default\" style.\n",
      "style_name not specified, so updating \"default\" style.\n",
      "style_name not specified, so updating \"default\" style.\n",
      "style_name not specified, so updating \"default\" style.\n",
      "style_name not specified, so updating \"default\" style.\n",
      "style_name not specified, so updating \"default\" style.\n"
     ]
    },
    {
     "data": {
      "text/plain": [
       "''"
      ]
     },
     "execution_count": 25,
     "metadata": {},
     "output_type": "execute_result"
    }
   ],
   "source": [
    "print(\"Styling graph\")\n",
    "p4c.set_node_shape_default(\"ELLIPSE\")\n",
    "p4c.set_node_width_default(30)\n",
    "p4c.set_node_height_default(30)\n",
    "p4c.set_node_border_color_default(\"#000000\")  # Black color in hexadecimal\n",
    "p4c.set_node_border_width_default(1)\n"
   ]
  },
  {
   "cell_type": "code",
   "execution_count": 28,
   "metadata": {},
   "outputs": [],
   "source": [
    "# # Styling edges this is too intense\n",
    "# p4c.set_edge_label_mapping('weight')\n",
    "# p4c.set_edge_line_width_mapping(**p4c.gen_edge_width_map('weight', mapping_type='c'))"
   ]
  },
  {
   "cell_type": "markdown",
   "metadata": {},
   "source": [
    "Showing an image of the graph if you dont have cytoscape"
   ]
  },
  {
   "cell_type": "code",
   "execution_count": null,
   "metadata": {},
   "outputs": [],
   "source": [
    "img = mpimg.imread('...image.png') #TODO: add\n",
    "plt.imshow(img)\n",
    "plt.axis('off')  \n",
    "plt.show()\n"
   ]
  }
 ],
 "metadata": {
  "kernelspec": {
   "display_name": "workflomics",
   "language": "python",
   "name": "python3"
  },
  "language_info": {
   "codemirror_mode": {
    "name": "ipython",
    "version": 3
   },
   "file_extension": ".py",
   "mimetype": "text/x-python",
   "name": "python",
   "nbconvert_exporter": "python",
   "pygments_lexer": "ipython3",
   "version": "3.9.19"
  }
 },
 "nbformat": 4,
 "nbformat_minor": 2
}
