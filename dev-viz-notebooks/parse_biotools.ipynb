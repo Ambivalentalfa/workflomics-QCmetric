{
 "cells": [
  {
   "cell_type": "code",
   "execution_count": 13,
   "metadata": {},
   "outputs": [],
   "source": [
    "import json\n",
    "import os\n",
    "import numpy as np\n",
    "import matplotlib.pyplot as plt\n",
    "import sys\n",
    "sys.path.insert(0, os.path.abspath(os.path.join(os.getcwd(), '../src')))\n",
    "\n",
    "from pubmetric.network import create_citation_network \n",
    "from pubmetric.workflow import *\n",
    "from pubmetric.metrics import *\n",
    "\n",
    "import asyncio\n",
    "import nest_asyncio\n",
    "nest_asyncio.apply() # Necessary for asyncio notebook compatibility\n"
   ]
  },
  {
   "cell_type": "code",
   "execution_count": 14,
   "metadata": {},
   "outputs": [],
   "source": [
    "biotools_file = \"/home/alma/Documents/UU/Thesis/APE_UseCases/genomics_2/bio.tools.json\"\n",
    "\n",
    "with open(biotools_file, 'rb') as f:\n",
    "    biotools = json.load(f)\n",
    "wanted_tools = {tool['label'] for tool in biotools[\"functions\"]}"
   ]
  },
  {
   "cell_type": "code",
   "execution_count": 15,
   "metadata": {},
   "outputs": [],
   "source": []
  },
  {
   "cell_type": "code",
   "execution_count": 16,
   "metadata": {},
   "outputs": [
    {
     "name": "stdout",
     "output_type": "stream",
     "text": [
      "1778\n"
     ]
    }
   ],
   "source": [
    "print(len(wanted_tools))"
   ]
  },
  {
   "cell_type": "code",
   "execution_count": 18,
   "metadata": {},
   "outputs": [
    {
     "name": "stdout",
     "output_type": "stream",
     "text": [
      "2024-08-13 21:40:28 - Loading graph process started.\n",
      "2024-08-13 21:40:28 - Loading graph from ../out_20240801231111/graph.pkl.\n",
      "2024-08-13 21:40:28 - Graph loaded from ../out_20240801231111/graph.pkl.\n",
      "2024-08-13 21:40:28 - Loading graph took 0:00:00.016850\n",
      "2024-08-13 21:40:28 - Complete data download and graph creation took 0:00:00.016995\n"
     ]
    }
   ],
   "source": [
    "path_to_data = '../out_20240801231111' \n",
    "\n",
    "loaded_graph = asyncio.run(create_citation_network(inpath=path_to_data, load_graph=True)) # TODO: if no data then make data or ask if make data?\n"
   ]
  },
  {
   "cell_type": "code",
   "execution_count": null,
   "metadata": {},
   "outputs": [],
   "source": []
  }
 ],
 "metadata": {
  "kernelspec": {
   "display_name": "WFQC",
   "language": "python",
   "name": "python3"
  },
  "language_info": {
   "codemirror_mode": {
    "name": "ipython",
    "version": 3
   },
   "file_extension": ".py",
   "mimetype": "text/x-python",
   "name": "python",
   "nbconvert_exporter": "python",
   "pygments_lexer": "ipython3",
   "version": "3.9.19"
  }
 },
 "nbformat": 4,
 "nbformat_minor": 2
}
